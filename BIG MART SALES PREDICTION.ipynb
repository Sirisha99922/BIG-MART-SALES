{
 "cells": [
  {
   "cell_type": "code",
   "execution_count": 2,
   "id": "94de13e6",
   "metadata": {},
   "outputs": [],
   "source": [
    "import pandas as pd\n",
    "import numpy as np\n",
    "import matplotlib as plt\n",
    "%matplotlib inline"
   ]
  },
  {
   "cell_type": "code",
   "execution_count": 3,
   "id": "a18a6f82",
   "metadata": {},
   "outputs": [
    {
     "name": "stdout",
     "output_type": "stream",
     "text": [
      "C:\\Users\\Home\\Desktop\\PYTHON\n"
     ]
    }
   ],
   "source": [
    "import io\n",
    "%cd \"C:\\Users\\Home\\Desktop\\PYTHON\""
   ]
  },
  {
   "cell_type": "code",
   "execution_count": 4,
   "id": "0e781122",
   "metadata": {},
   "outputs": [],
   "source": [
    "bigmarttrain=pd.read_csv(\"Train_UWu5bXk.csv\")"
   ]
  },
  {
   "cell_type": "code",
   "execution_count": 5,
   "id": "78b9f28a",
   "metadata": {},
   "outputs": [
    {
     "data": {
      "text/html": [
       "<div>\n",
       "<style scoped>\n",
       "    .dataframe tbody tr th:only-of-type {\n",
       "        vertical-align: middle;\n",
       "    }\n",
       "\n",
       "    .dataframe tbody tr th {\n",
       "        vertical-align: top;\n",
       "    }\n",
       "\n",
       "    .dataframe thead th {\n",
       "        text-align: right;\n",
       "    }\n",
       "</style>\n",
       "<table border=\"1\" class=\"dataframe\">\n",
       "  <thead>\n",
       "    <tr style=\"text-align: right;\">\n",
       "      <th></th>\n",
       "      <th>Item_Identifier</th>\n",
       "      <th>Item_Weight</th>\n",
       "      <th>Item_Fat_Content</th>\n",
       "      <th>Item_Visibility</th>\n",
       "      <th>Item_Type</th>\n",
       "      <th>Item_MRP</th>\n",
       "      <th>Outlet_Identifier</th>\n",
       "      <th>Outlet_Establishment_Year</th>\n",
       "      <th>Outlet_Size</th>\n",
       "      <th>Outlet_Location_Type</th>\n",
       "      <th>Outlet_Type</th>\n",
       "      <th>Item_Outlet_Sales</th>\n",
       "    </tr>\n",
       "  </thead>\n",
       "  <tbody>\n",
       "    <tr>\n",
       "      <th>0</th>\n",
       "      <td>FDA15</td>\n",
       "      <td>9.30</td>\n",
       "      <td>Low Fat</td>\n",
       "      <td>0.016047</td>\n",
       "      <td>Dairy</td>\n",
       "      <td>249.8092</td>\n",
       "      <td>OUT049</td>\n",
       "      <td>1999</td>\n",
       "      <td>Medium</td>\n",
       "      <td>Tier 1</td>\n",
       "      <td>Supermarket Type1</td>\n",
       "      <td>3735.1380</td>\n",
       "    </tr>\n",
       "    <tr>\n",
       "      <th>1</th>\n",
       "      <td>DRC01</td>\n",
       "      <td>5.92</td>\n",
       "      <td>Regular</td>\n",
       "      <td>0.019278</td>\n",
       "      <td>Soft Drinks</td>\n",
       "      <td>48.2692</td>\n",
       "      <td>OUT018</td>\n",
       "      <td>2009</td>\n",
       "      <td>Medium</td>\n",
       "      <td>Tier 3</td>\n",
       "      <td>Supermarket Type2</td>\n",
       "      <td>443.4228</td>\n",
       "    </tr>\n",
       "    <tr>\n",
       "      <th>2</th>\n",
       "      <td>FDN15</td>\n",
       "      <td>17.50</td>\n",
       "      <td>Low Fat</td>\n",
       "      <td>0.016760</td>\n",
       "      <td>Meat</td>\n",
       "      <td>141.6180</td>\n",
       "      <td>OUT049</td>\n",
       "      <td>1999</td>\n",
       "      <td>Medium</td>\n",
       "      <td>Tier 1</td>\n",
       "      <td>Supermarket Type1</td>\n",
       "      <td>2097.2700</td>\n",
       "    </tr>\n",
       "    <tr>\n",
       "      <th>3</th>\n",
       "      <td>FDX07</td>\n",
       "      <td>19.20</td>\n",
       "      <td>Regular</td>\n",
       "      <td>0.000000</td>\n",
       "      <td>Fruits and Vegetables</td>\n",
       "      <td>182.0950</td>\n",
       "      <td>OUT010</td>\n",
       "      <td>1998</td>\n",
       "      <td>NaN</td>\n",
       "      <td>Tier 3</td>\n",
       "      <td>Grocery Store</td>\n",
       "      <td>732.3800</td>\n",
       "    </tr>\n",
       "    <tr>\n",
       "      <th>4</th>\n",
       "      <td>NCD19</td>\n",
       "      <td>8.93</td>\n",
       "      <td>Low Fat</td>\n",
       "      <td>0.000000</td>\n",
       "      <td>Household</td>\n",
       "      <td>53.8614</td>\n",
       "      <td>OUT013</td>\n",
       "      <td>1987</td>\n",
       "      <td>High</td>\n",
       "      <td>Tier 3</td>\n",
       "      <td>Supermarket Type1</td>\n",
       "      <td>994.7052</td>\n",
       "    </tr>\n",
       "  </tbody>\n",
       "</table>\n",
       "</div>"
      ],
      "text/plain": [
       "  Item_Identifier  Item_Weight Item_Fat_Content  Item_Visibility  \\\n",
       "0           FDA15         9.30          Low Fat         0.016047   \n",
       "1           DRC01         5.92          Regular         0.019278   \n",
       "2           FDN15        17.50          Low Fat         0.016760   \n",
       "3           FDX07        19.20          Regular         0.000000   \n",
       "4           NCD19         8.93          Low Fat         0.000000   \n",
       "\n",
       "               Item_Type  Item_MRP Outlet_Identifier  \\\n",
       "0                  Dairy  249.8092            OUT049   \n",
       "1            Soft Drinks   48.2692            OUT018   \n",
       "2                   Meat  141.6180            OUT049   \n",
       "3  Fruits and Vegetables  182.0950            OUT010   \n",
       "4              Household   53.8614            OUT013   \n",
       "\n",
       "   Outlet_Establishment_Year Outlet_Size Outlet_Location_Type  \\\n",
       "0                       1999      Medium               Tier 1   \n",
       "1                       2009      Medium               Tier 3   \n",
       "2                       1999      Medium               Tier 1   \n",
       "3                       1998         NaN               Tier 3   \n",
       "4                       1987        High               Tier 3   \n",
       "\n",
       "         Outlet_Type  Item_Outlet_Sales  \n",
       "0  Supermarket Type1          3735.1380  \n",
       "1  Supermarket Type2           443.4228  \n",
       "2  Supermarket Type1          2097.2700  \n",
       "3      Grocery Store           732.3800  \n",
       "4  Supermarket Type1           994.7052  "
      ]
     },
     "execution_count": 5,
     "metadata": {},
     "output_type": "execute_result"
    }
   ],
   "source": [
    "bigmarttrain.head() # FIRST 5 ROWS OF DATA & PYTHON STARTS FROM ZERO(0)"
   ]
  },
  {
   "cell_type": "code",
   "execution_count": 6,
   "id": "c0a7c213",
   "metadata": {},
   "outputs": [
    {
     "data": {
      "text/html": [
       "<div>\n",
       "<style scoped>\n",
       "    .dataframe tbody tr th:only-of-type {\n",
       "        vertical-align: middle;\n",
       "    }\n",
       "\n",
       "    .dataframe tbody tr th {\n",
       "        vertical-align: top;\n",
       "    }\n",
       "\n",
       "    .dataframe thead th {\n",
       "        text-align: right;\n",
       "    }\n",
       "</style>\n",
       "<table border=\"1\" class=\"dataframe\">\n",
       "  <thead>\n",
       "    <tr style=\"text-align: right;\">\n",
       "      <th></th>\n",
       "      <th>Item_Identifier</th>\n",
       "      <th>Item_Weight</th>\n",
       "      <th>Item_Fat_Content</th>\n",
       "      <th>Item_Visibility</th>\n",
       "      <th>Item_Type</th>\n",
       "      <th>Item_MRP</th>\n",
       "      <th>Outlet_Identifier</th>\n",
       "      <th>Outlet_Establishment_Year</th>\n",
       "      <th>Outlet_Size</th>\n",
       "      <th>Outlet_Location_Type</th>\n",
       "      <th>Outlet_Type</th>\n",
       "      <th>Item_Outlet_Sales</th>\n",
       "    </tr>\n",
       "  </thead>\n",
       "  <tbody>\n",
       "    <tr>\n",
       "      <th>8518</th>\n",
       "      <td>FDF22</td>\n",
       "      <td>6.865</td>\n",
       "      <td>Low Fat</td>\n",
       "      <td>0.056783</td>\n",
       "      <td>Snack Foods</td>\n",
       "      <td>214.5218</td>\n",
       "      <td>OUT013</td>\n",
       "      <td>1987</td>\n",
       "      <td>High</td>\n",
       "      <td>Tier 3</td>\n",
       "      <td>Supermarket Type1</td>\n",
       "      <td>2778.3834</td>\n",
       "    </tr>\n",
       "    <tr>\n",
       "      <th>8519</th>\n",
       "      <td>FDS36</td>\n",
       "      <td>8.380</td>\n",
       "      <td>Regular</td>\n",
       "      <td>0.046982</td>\n",
       "      <td>Baking Goods</td>\n",
       "      <td>108.1570</td>\n",
       "      <td>OUT045</td>\n",
       "      <td>2002</td>\n",
       "      <td>NaN</td>\n",
       "      <td>Tier 2</td>\n",
       "      <td>Supermarket Type1</td>\n",
       "      <td>549.2850</td>\n",
       "    </tr>\n",
       "    <tr>\n",
       "      <th>8520</th>\n",
       "      <td>NCJ29</td>\n",
       "      <td>10.600</td>\n",
       "      <td>Low Fat</td>\n",
       "      <td>0.035186</td>\n",
       "      <td>Health and Hygiene</td>\n",
       "      <td>85.1224</td>\n",
       "      <td>OUT035</td>\n",
       "      <td>2004</td>\n",
       "      <td>Small</td>\n",
       "      <td>Tier 2</td>\n",
       "      <td>Supermarket Type1</td>\n",
       "      <td>1193.1136</td>\n",
       "    </tr>\n",
       "    <tr>\n",
       "      <th>8521</th>\n",
       "      <td>FDN46</td>\n",
       "      <td>7.210</td>\n",
       "      <td>Regular</td>\n",
       "      <td>0.145221</td>\n",
       "      <td>Snack Foods</td>\n",
       "      <td>103.1332</td>\n",
       "      <td>OUT018</td>\n",
       "      <td>2009</td>\n",
       "      <td>Medium</td>\n",
       "      <td>Tier 3</td>\n",
       "      <td>Supermarket Type2</td>\n",
       "      <td>1845.5976</td>\n",
       "    </tr>\n",
       "    <tr>\n",
       "      <th>8522</th>\n",
       "      <td>DRG01</td>\n",
       "      <td>14.800</td>\n",
       "      <td>Low Fat</td>\n",
       "      <td>0.044878</td>\n",
       "      <td>Soft Drinks</td>\n",
       "      <td>75.4670</td>\n",
       "      <td>OUT046</td>\n",
       "      <td>1997</td>\n",
       "      <td>Small</td>\n",
       "      <td>Tier 1</td>\n",
       "      <td>Supermarket Type1</td>\n",
       "      <td>765.6700</td>\n",
       "    </tr>\n",
       "  </tbody>\n",
       "</table>\n",
       "</div>"
      ],
      "text/plain": [
       "     Item_Identifier  Item_Weight Item_Fat_Content  Item_Visibility  \\\n",
       "8518           FDF22        6.865          Low Fat         0.056783   \n",
       "8519           FDS36        8.380          Regular         0.046982   \n",
       "8520           NCJ29       10.600          Low Fat         0.035186   \n",
       "8521           FDN46        7.210          Regular         0.145221   \n",
       "8522           DRG01       14.800          Low Fat         0.044878   \n",
       "\n",
       "               Item_Type  Item_MRP Outlet_Identifier  \\\n",
       "8518         Snack Foods  214.5218            OUT013   \n",
       "8519        Baking Goods  108.1570            OUT045   \n",
       "8520  Health and Hygiene   85.1224            OUT035   \n",
       "8521         Snack Foods  103.1332            OUT018   \n",
       "8522         Soft Drinks   75.4670            OUT046   \n",
       "\n",
       "      Outlet_Establishment_Year Outlet_Size Outlet_Location_Type  \\\n",
       "8518                       1987        High               Tier 3   \n",
       "8519                       2002         NaN               Tier 2   \n",
       "8520                       2004       Small               Tier 2   \n",
       "8521                       2009      Medium               Tier 3   \n",
       "8522                       1997       Small               Tier 1   \n",
       "\n",
       "            Outlet_Type  Item_Outlet_Sales  \n",
       "8518  Supermarket Type1          2778.3834  \n",
       "8519  Supermarket Type1           549.2850  \n",
       "8520  Supermarket Type1          1193.1136  \n",
       "8521  Supermarket Type2          1845.5976  \n",
       "8522  Supermarket Type1           765.6700  "
      ]
     },
     "execution_count": 6,
     "metadata": {},
     "output_type": "execute_result"
    }
   ],
   "source": [
    "bigmarttrain.tail() # LAST 5 ROWS OF DATA"
   ]
  },
  {
   "cell_type": "code",
   "execution_count": 7,
   "id": "b3b16c45",
   "metadata": {},
   "outputs": [
    {
     "data": {
      "text/plain": [
       "Item_Identifier               object\n",
       "Item_Weight                  float64\n",
       "Item_Fat_Content              object\n",
       "Item_Visibility              float64\n",
       "Item_Type                     object\n",
       "Item_MRP                     float64\n",
       "Outlet_Identifier             object\n",
       "Outlet_Establishment_Year      int64\n",
       "Outlet_Size                   object\n",
       "Outlet_Location_Type          object\n",
       "Outlet_Type                   object\n",
       "Item_Outlet_Sales            float64\n",
       "dtype: object"
      ]
     },
     "execution_count": 7,
     "metadata": {},
     "output_type": "execute_result"
    }
   ],
   "source": [
    "bigmarttrain.dtypes\n",
    "# INDIVIDUAL DATA TYPES - FLOAT64, INT64, NUMBER, OBJECT(CHARACTER OR STRING), DATETIME"
   ]
  },
  {
   "cell_type": "code",
   "execution_count": 8,
   "id": "5720fbf7",
   "metadata": {},
   "outputs": [
    {
     "data": {
      "text/plain": [
       "(8523, 12)"
      ]
     },
     "execution_count": 8,
     "metadata": {},
     "output_type": "execute_result"
    }
   ],
   "source": [
    "bigmarttrain.shape # Number of rows or observations and columns or variables"
   ]
  },
  {
   "cell_type": "code",
   "execution_count": 9,
   "id": "865aae40",
   "metadata": {},
   "outputs": [
    {
     "data": {
      "text/plain": [
       "Index(['Item_Identifier', 'Item_Weight', 'Item_Fat_Content', 'Item_Visibility',\n",
       "       'Item_Type', 'Item_MRP', 'Outlet_Identifier',\n",
       "       'Outlet_Establishment_Year', 'Outlet_Size', 'Outlet_Location_Type',\n",
       "       'Outlet_Type', 'Item_Outlet_Sales'],\n",
       "      dtype='object')"
      ]
     },
     "execution_count": 9,
     "metadata": {},
     "output_type": "execute_result"
    }
   ],
   "source": [
    "bigmarttrain.columns # Column names or Variable names"
   ]
  },
  {
   "cell_type": "code",
   "execution_count": 10,
   "id": "81c58a84",
   "metadata": {},
   "outputs": [
    {
     "data": {
      "text/plain": [
       "pandas.core.frame.DataFrame"
      ]
     },
     "execution_count": 10,
     "metadata": {},
     "output_type": "execute_result"
    }
   ],
   "source": [
    "type(bigmarttrain) #Type of data dealing with"
   ]
  },
  {
   "cell_type": "code",
   "execution_count": 11,
   "id": "29b693b4",
   "metadata": {},
   "outputs": [],
   "source": [
    "# Pandas - Dataframe operations like import/export, join, concat, reshape, index, etc.\n",
    "#matplotlib.pyplot - Data Visualization particularly if you want to alter plot window size, etc,.\n",
    "#Numpy - Array based operations, Array are fundamental datastructure and start & end with[] or square brackets, elements seperated by comma.\n",
    "# Subpackages in Numpy : \n",
    "# scipy.stats - statistics\n",
    "# statsmodels - Time Series\n",
    "# sklearn - Machine learning\n",
    "# Other Important Packages\n",
    "# nltk - Natural Language Processing\n",
    "# keras and Tensorflow - Deep learning and Image Processing\n",
    "# openCv - Image and video processing"
   ]
  },
  {
   "cell_type": "code",
   "execution_count": 12,
   "id": "16454594",
   "metadata": {},
   "outputs": [
    {
     "data": {
      "text/html": [
       "<div>\n",
       "<style scoped>\n",
       "    .dataframe tbody tr th:only-of-type {\n",
       "        vertical-align: middle;\n",
       "    }\n",
       "\n",
       "    .dataframe tbody tr th {\n",
       "        vertical-align: top;\n",
       "    }\n",
       "\n",
       "    .dataframe thead th {\n",
       "        text-align: right;\n",
       "    }\n",
       "</style>\n",
       "<table border=\"1\" class=\"dataframe\">\n",
       "  <thead>\n",
       "    <tr style=\"text-align: right;\">\n",
       "      <th></th>\n",
       "      <th>Item_Weight</th>\n",
       "      <th>Item_Visibility</th>\n",
       "      <th>Item_MRP</th>\n",
       "      <th>Outlet_Establishment_Year</th>\n",
       "      <th>Item_Outlet_Sales</th>\n",
       "    </tr>\n",
       "  </thead>\n",
       "  <tbody>\n",
       "    <tr>\n",
       "      <th>count</th>\n",
       "      <td>7060.000000</td>\n",
       "      <td>8523.000000</td>\n",
       "      <td>8523.000000</td>\n",
       "      <td>8523.000000</td>\n",
       "      <td>8523.000000</td>\n",
       "    </tr>\n",
       "    <tr>\n",
       "      <th>mean</th>\n",
       "      <td>12.857645</td>\n",
       "      <td>0.066132</td>\n",
       "      <td>140.992782</td>\n",
       "      <td>1997.831867</td>\n",
       "      <td>2181.288914</td>\n",
       "    </tr>\n",
       "    <tr>\n",
       "      <th>std</th>\n",
       "      <td>4.643456</td>\n",
       "      <td>0.051598</td>\n",
       "      <td>62.275067</td>\n",
       "      <td>8.371760</td>\n",
       "      <td>1706.499616</td>\n",
       "    </tr>\n",
       "    <tr>\n",
       "      <th>min</th>\n",
       "      <td>4.555000</td>\n",
       "      <td>0.000000</td>\n",
       "      <td>31.290000</td>\n",
       "      <td>1985.000000</td>\n",
       "      <td>33.290000</td>\n",
       "    </tr>\n",
       "    <tr>\n",
       "      <th>25%</th>\n",
       "      <td>8.773750</td>\n",
       "      <td>0.026989</td>\n",
       "      <td>93.826500</td>\n",
       "      <td>1987.000000</td>\n",
       "      <td>834.247400</td>\n",
       "    </tr>\n",
       "    <tr>\n",
       "      <th>50%</th>\n",
       "      <td>12.600000</td>\n",
       "      <td>0.053931</td>\n",
       "      <td>143.012800</td>\n",
       "      <td>1999.000000</td>\n",
       "      <td>1794.331000</td>\n",
       "    </tr>\n",
       "    <tr>\n",
       "      <th>75%</th>\n",
       "      <td>16.850000</td>\n",
       "      <td>0.094585</td>\n",
       "      <td>185.643700</td>\n",
       "      <td>2004.000000</td>\n",
       "      <td>3101.296400</td>\n",
       "    </tr>\n",
       "    <tr>\n",
       "      <th>max</th>\n",
       "      <td>21.350000</td>\n",
       "      <td>0.328391</td>\n",
       "      <td>266.888400</td>\n",
       "      <td>2009.000000</td>\n",
       "      <td>13086.964800</td>\n",
       "    </tr>\n",
       "  </tbody>\n",
       "</table>\n",
       "</div>"
      ],
      "text/plain": [
       "       Item_Weight  Item_Visibility     Item_MRP  Outlet_Establishment_Year  \\\n",
       "count  7060.000000      8523.000000  8523.000000                8523.000000   \n",
       "mean     12.857645         0.066132   140.992782                1997.831867   \n",
       "std       4.643456         0.051598    62.275067                   8.371760   \n",
       "min       4.555000         0.000000    31.290000                1985.000000   \n",
       "25%       8.773750         0.026989    93.826500                1987.000000   \n",
       "50%      12.600000         0.053931   143.012800                1999.000000   \n",
       "75%      16.850000         0.094585   185.643700                2004.000000   \n",
       "max      21.350000         0.328391   266.888400                2009.000000   \n",
       "\n",
       "       Item_Outlet_Sales  \n",
       "count        8523.000000  \n",
       "mean         2181.288914  \n",
       "std          1706.499616  \n",
       "min            33.290000  \n",
       "25%           834.247400  \n",
       "50%          1794.331000  \n",
       "75%          3101.296400  \n",
       "max         13086.964800  "
      ]
     },
     "execution_count": 12,
     "metadata": {},
     "output_type": "execute_result"
    }
   ],
   "source": [
    "bigmarttrain.describe() # count, min, max, mean, q1, q2, q3, S.D. # ONLY ON NUMERICAL DATA"
   ]
  },
  {
   "cell_type": "code",
   "execution_count": 13,
   "id": "5ea3dbd2",
   "metadata": {},
   "outputs": [
    {
     "data": {
      "text/plain": [
       "count     8523.000000\n",
       "mean      2181.288914\n",
       "std       1706.499616\n",
       "min         33.290000\n",
       "25%        834.247400\n",
       "50%       1794.331000\n",
       "75%       3101.296400\n",
       "max      13086.964800\n",
       "Name: Item_Outlet_Sales, dtype: float64"
      ]
     },
     "execution_count": 13,
     "metadata": {},
     "output_type": "execute_result"
    }
   ],
   "source": [
    "# Indexing - Accessing specific columns or Rows\n",
    "# Character Indexing - Accessing by column Name\n",
    "bigmarttrain.Item_Outlet_Sales.describe()\n",
    "#df.colname.function"
   ]
  },
  {
   "cell_type": "code",
   "execution_count": 14,
   "id": "8462ebb2",
   "metadata": {},
   "outputs": [
    {
     "data": {
      "text/plain": [
       "count     8523.000000\n",
       "mean      2181.288914\n",
       "std       1706.499616\n",
       "min         33.290000\n",
       "25%        834.247400\n",
       "50%       1794.331000\n",
       "75%       3101.296400\n",
       "max      13086.964800\n",
       "Name: Item_Outlet_Sales, dtype: float64"
      ]
     },
     "execution_count": 14,
     "metadata": {},
     "output_type": "execute_result"
    }
   ],
   "source": [
    "bigmarttrain['Item_Outlet_Sales'].describe()"
   ]
  },
  {
   "cell_type": "code",
   "execution_count": 15,
   "id": "239c845d",
   "metadata": {},
   "outputs": [
    {
     "data": {
      "text/html": [
       "<div>\n",
       "<style scoped>\n",
       "    .dataframe tbody tr th:only-of-type {\n",
       "        vertical-align: middle;\n",
       "    }\n",
       "\n",
       "    .dataframe tbody tr th {\n",
       "        vertical-align: top;\n",
       "    }\n",
       "\n",
       "    .dataframe thead th {\n",
       "        text-align: right;\n",
       "    }\n",
       "</style>\n",
       "<table border=\"1\" class=\"dataframe\">\n",
       "  <thead>\n",
       "    <tr style=\"text-align: right;\">\n",
       "      <th></th>\n",
       "      <th>Item_Outlet_Sales</th>\n",
       "      <th>Item_Visibility</th>\n",
       "    </tr>\n",
       "  </thead>\n",
       "  <tbody>\n",
       "    <tr>\n",
       "      <th>count</th>\n",
       "      <td>8523.000000</td>\n",
       "      <td>8523.000000</td>\n",
       "    </tr>\n",
       "    <tr>\n",
       "      <th>mean</th>\n",
       "      <td>2181.288914</td>\n",
       "      <td>0.066132</td>\n",
       "    </tr>\n",
       "    <tr>\n",
       "      <th>std</th>\n",
       "      <td>1706.499616</td>\n",
       "      <td>0.051598</td>\n",
       "    </tr>\n",
       "    <tr>\n",
       "      <th>min</th>\n",
       "      <td>33.290000</td>\n",
       "      <td>0.000000</td>\n",
       "    </tr>\n",
       "    <tr>\n",
       "      <th>25%</th>\n",
       "      <td>834.247400</td>\n",
       "      <td>0.026989</td>\n",
       "    </tr>\n",
       "    <tr>\n",
       "      <th>50%</th>\n",
       "      <td>1794.331000</td>\n",
       "      <td>0.053931</td>\n",
       "    </tr>\n",
       "    <tr>\n",
       "      <th>75%</th>\n",
       "      <td>3101.296400</td>\n",
       "      <td>0.094585</td>\n",
       "    </tr>\n",
       "    <tr>\n",
       "      <th>max</th>\n",
       "      <td>13086.964800</td>\n",
       "      <td>0.328391</td>\n",
       "    </tr>\n",
       "  </tbody>\n",
       "</table>\n",
       "</div>"
      ],
      "text/plain": [
       "       Item_Outlet_Sales  Item_Visibility\n",
       "count        8523.000000      8523.000000\n",
       "mean         2181.288914         0.066132\n",
       "std          1706.499616         0.051598\n",
       "min            33.290000         0.000000\n",
       "25%           834.247400         0.026989\n",
       "50%          1794.331000         0.053931\n",
       "75%          3101.296400         0.094585\n",
       "max         13086.964800         0.328391"
      ]
     },
     "execution_count": 15,
     "metadata": {},
     "output_type": "execute_result"
    }
   ],
   "source": [
    "# Character Indexing - Multiple Columns - df[[]]\n",
    "bigmarttrain[['Item_Outlet_Sales', 'Item_Visibility']].describe()"
   ]
  },
  {
   "cell_type": "code",
   "execution_count": 16,
   "id": "4d1a95e0",
   "metadata": {},
   "outputs": [
    {
     "data": {
      "text/plain": [
       "Index(['Item_Identifier', 'Item_Weight', 'Item_Fat_Content', 'Item_Visibility',\n",
       "       'Item_Type', 'Item_MRP', 'Outlet_Identifier',\n",
       "       'Outlet_Establishment_Year', 'Outlet_Size', 'Outlet_Location_Type',\n",
       "       'Outlet_Type', 'Item_Outlet_Sales'],\n",
       "      dtype='object')"
      ]
     },
     "execution_count": 16,
     "metadata": {},
     "output_type": "execute_result"
    }
   ],
   "source": [
    "# Numerical Indexing or Accessing by number. Python starts with 0\n",
    "bigmarttrain.columns"
   ]
  },
  {
   "cell_type": "code",
   "execution_count": 17,
   "id": "55e60641",
   "metadata": {},
   "outputs": [
    {
     "data": {
      "text/html": [
       "<div>\n",
       "<style scoped>\n",
       "    .dataframe tbody tr th:only-of-type {\n",
       "        vertical-align: middle;\n",
       "    }\n",
       "\n",
       "    .dataframe tbody tr th {\n",
       "        vertical-align: top;\n",
       "    }\n",
       "\n",
       "    .dataframe thead th {\n",
       "        text-align: right;\n",
       "    }\n",
       "</style>\n",
       "<table border=\"1\" class=\"dataframe\">\n",
       "  <thead>\n",
       "    <tr style=\"text-align: right;\">\n",
       "      <th></th>\n",
       "      <th>Item_Visibility</th>\n",
       "      <th>Item_Outlet_Sales</th>\n",
       "    </tr>\n",
       "  </thead>\n",
       "  <tbody>\n",
       "    <tr>\n",
       "      <th>count</th>\n",
       "      <td>8523.000000</td>\n",
       "      <td>8523.000000</td>\n",
       "    </tr>\n",
       "    <tr>\n",
       "      <th>mean</th>\n",
       "      <td>0.066132</td>\n",
       "      <td>2181.288914</td>\n",
       "    </tr>\n",
       "    <tr>\n",
       "      <th>std</th>\n",
       "      <td>0.051598</td>\n",
       "      <td>1706.499616</td>\n",
       "    </tr>\n",
       "    <tr>\n",
       "      <th>min</th>\n",
       "      <td>0.000000</td>\n",
       "      <td>33.290000</td>\n",
       "    </tr>\n",
       "    <tr>\n",
       "      <th>25%</th>\n",
       "      <td>0.026989</td>\n",
       "      <td>834.247400</td>\n",
       "    </tr>\n",
       "    <tr>\n",
       "      <th>50%</th>\n",
       "      <td>0.053931</td>\n",
       "      <td>1794.331000</td>\n",
       "    </tr>\n",
       "    <tr>\n",
       "      <th>75%</th>\n",
       "      <td>0.094585</td>\n",
       "      <td>3101.296400</td>\n",
       "    </tr>\n",
       "    <tr>\n",
       "      <th>max</th>\n",
       "      <td>0.328391</td>\n",
       "      <td>13086.964800</td>\n",
       "    </tr>\n",
       "  </tbody>\n",
       "</table>\n",
       "</div>"
      ],
      "text/plain": [
       "       Item_Visibility  Item_Outlet_Sales\n",
       "count      8523.000000        8523.000000\n",
       "mean          0.066132        2181.288914\n",
       "std           0.051598        1706.499616\n",
       "min           0.000000          33.290000\n",
       "25%           0.026989         834.247400\n",
       "50%           0.053931        1794.331000\n",
       "75%           0.094585        3101.296400\n",
       "max           0.328391       13086.964800"
      ]
     },
     "execution_count": 17,
     "metadata": {},
     "output_type": "execute_result"
    }
   ],
   "source": [
    "bigmarttrain.iloc[:,[3,11]].describe()\n",
    "# iloc[] - Index Location & :, before is column selection"
   ]
  },
  {
   "cell_type": "code",
   "execution_count": 18,
   "id": "2ea59dc1",
   "metadata": {},
   "outputs": [
    {
     "data": {
      "text/html": [
       "<div>\n",
       "<style scoped>\n",
       "    .dataframe tbody tr th:only-of-type {\n",
       "        vertical-align: middle;\n",
       "    }\n",
       "\n",
       "    .dataframe tbody tr th {\n",
       "        vertical-align: top;\n",
       "    }\n",
       "\n",
       "    .dataframe thead th {\n",
       "        text-align: right;\n",
       "    }\n",
       "</style>\n",
       "<table border=\"1\" class=\"dataframe\">\n",
       "  <thead>\n",
       "    <tr style=\"text-align: right;\">\n",
       "      <th></th>\n",
       "      <th>Item_Identifier</th>\n",
       "      <th>Item_Weight</th>\n",
       "      <th>Item_Fat_Content</th>\n",
       "      <th>Item_Visibility</th>\n",
       "      <th>Item_Type</th>\n",
       "      <th>Item_MRP</th>\n",
       "      <th>Outlet_Identifier</th>\n",
       "      <th>Outlet_Establishment_Year</th>\n",
       "      <th>Outlet_Size</th>\n",
       "      <th>Outlet_Location_Type</th>\n",
       "      <th>Outlet_Type</th>\n",
       "      <th>Item_Outlet_Sales</th>\n",
       "    </tr>\n",
       "  </thead>\n",
       "  <tbody>\n",
       "    <tr>\n",
       "      <th>2</th>\n",
       "      <td>FDN15</td>\n",
       "      <td>17.500</td>\n",
       "      <td>Low Fat</td>\n",
       "      <td>0.016760</td>\n",
       "      <td>Meat</td>\n",
       "      <td>141.6180</td>\n",
       "      <td>OUT049</td>\n",
       "      <td>1999</td>\n",
       "      <td>Medium</td>\n",
       "      <td>Tier 1</td>\n",
       "      <td>Supermarket Type1</td>\n",
       "      <td>2097.2700</td>\n",
       "    </tr>\n",
       "    <tr>\n",
       "      <th>5</th>\n",
       "      <td>FDP36</td>\n",
       "      <td>10.395</td>\n",
       "      <td>Regular</td>\n",
       "      <td>0.000000</td>\n",
       "      <td>Baking Goods</td>\n",
       "      <td>51.4008</td>\n",
       "      <td>OUT018</td>\n",
       "      <td>2009</td>\n",
       "      <td>Medium</td>\n",
       "      <td>Tier 3</td>\n",
       "      <td>Supermarket Type2</td>\n",
       "      <td>556.6088</td>\n",
       "    </tr>\n",
       "    <tr>\n",
       "      <th>80</th>\n",
       "      <td>FDD58</td>\n",
       "      <td>7.760</td>\n",
       "      <td>Low Fat</td>\n",
       "      <td>0.059352</td>\n",
       "      <td>Snack Foods</td>\n",
       "      <td>101.8700</td>\n",
       "      <td>OUT046</td>\n",
       "      <td>1997</td>\n",
       "      <td>Small</td>\n",
       "      <td>Tier 1</td>\n",
       "      <td>Supermarket Type1</td>\n",
       "      <td>1697.7900</td>\n",
       "    </tr>\n",
       "    <tr>\n",
       "      <th>900</th>\n",
       "      <td>FDZ12</td>\n",
       "      <td>NaN</td>\n",
       "      <td>Low Fat</td>\n",
       "      <td>0.000000</td>\n",
       "      <td>Baking Goods</td>\n",
       "      <td>144.8470</td>\n",
       "      <td>OUT019</td>\n",
       "      <td>1985</td>\n",
       "      <td>Small</td>\n",
       "      <td>Tier 1</td>\n",
       "      <td>Grocery Store</td>\n",
       "      <td>143.1470</td>\n",
       "    </tr>\n",
       "    <tr>\n",
       "      <th>8000</th>\n",
       "      <td>FDS55</td>\n",
       "      <td>7.020</td>\n",
       "      <td>Low Fat</td>\n",
       "      <td>0.081329</td>\n",
       "      <td>Fruits and Vegetables</td>\n",
       "      <td>150.0734</td>\n",
       "      <td>OUT045</td>\n",
       "      <td>2002</td>\n",
       "      <td>NaN</td>\n",
       "      <td>Tier 2</td>\n",
       "      <td>Supermarket Type1</td>\n",
       "      <td>4454.2020</td>\n",
       "    </tr>\n",
       "  </tbody>\n",
       "</table>\n",
       "</div>"
      ],
      "text/plain": [
       "     Item_Identifier  Item_Weight Item_Fat_Content  Item_Visibility  \\\n",
       "2              FDN15       17.500          Low Fat         0.016760   \n",
       "5              FDP36       10.395          Regular         0.000000   \n",
       "80             FDD58        7.760          Low Fat         0.059352   \n",
       "900            FDZ12          NaN          Low Fat         0.000000   \n",
       "8000           FDS55        7.020          Low Fat         0.081329   \n",
       "\n",
       "                  Item_Type  Item_MRP Outlet_Identifier  \\\n",
       "2                      Meat  141.6180            OUT049   \n",
       "5              Baking Goods   51.4008            OUT018   \n",
       "80              Snack Foods  101.8700            OUT046   \n",
       "900            Baking Goods  144.8470            OUT019   \n",
       "8000  Fruits and Vegetables  150.0734            OUT045   \n",
       "\n",
       "      Outlet_Establishment_Year Outlet_Size Outlet_Location_Type  \\\n",
       "2                          1999      Medium               Tier 1   \n",
       "5                          2009      Medium               Tier 3   \n",
       "80                         1997       Small               Tier 1   \n",
       "900                        1985       Small               Tier 1   \n",
       "8000                       2002         NaN               Tier 2   \n",
       "\n",
       "            Outlet_Type  Item_Outlet_Sales  \n",
       "2     Supermarket Type1          2097.2700  \n",
       "5     Supermarket Type2           556.6088  \n",
       "80    Supermarket Type1          1697.7900  \n",
       "900       Grocery Store           143.1470  \n",
       "8000  Supermarket Type1          4454.2020  "
      ]
     },
     "execution_count": 18,
     "metadata": {},
     "output_type": "execute_result"
    }
   ],
   "source": [
    "bigmarttrain.iloc[[2,5,80,900,8000]] # Row Indexing"
   ]
  },
  {
   "cell_type": "code",
   "execution_count": 19,
   "id": "62bb0274",
   "metadata": {},
   "outputs": [
    {
     "data": {
      "text/html": [
       "<div>\n",
       "<style scoped>\n",
       "    .dataframe tbody tr th:only-of-type {\n",
       "        vertical-align: middle;\n",
       "    }\n",
       "\n",
       "    .dataframe tbody tr th {\n",
       "        vertical-align: top;\n",
       "    }\n",
       "\n",
       "    .dataframe thead th {\n",
       "        text-align: right;\n",
       "    }\n",
       "</style>\n",
       "<table border=\"1\" class=\"dataframe\">\n",
       "  <thead>\n",
       "    <tr style=\"text-align: right;\">\n",
       "      <th></th>\n",
       "      <th>Item_Visibility</th>\n",
       "      <th>Item_Outlet_Sales</th>\n",
       "    </tr>\n",
       "  </thead>\n",
       "  <tbody>\n",
       "    <tr>\n",
       "      <th>0</th>\n",
       "      <td>0.016047</td>\n",
       "      <td>3735.1380</td>\n",
       "    </tr>\n",
       "    <tr>\n",
       "      <th>1</th>\n",
       "      <td>0.019278</td>\n",
       "      <td>443.4228</td>\n",
       "    </tr>\n",
       "    <tr>\n",
       "      <th>2</th>\n",
       "      <td>0.016760</td>\n",
       "      <td>2097.2700</td>\n",
       "    </tr>\n",
       "    <tr>\n",
       "      <th>3</th>\n",
       "      <td>0.000000</td>\n",
       "      <td>732.3800</td>\n",
       "    </tr>\n",
       "    <tr>\n",
       "      <th>4</th>\n",
       "      <td>0.000000</td>\n",
       "      <td>994.7052</td>\n",
       "    </tr>\n",
       "    <tr>\n",
       "      <th>...</th>\n",
       "      <td>...</td>\n",
       "      <td>...</td>\n",
       "    </tr>\n",
       "    <tr>\n",
       "      <th>8518</th>\n",
       "      <td>0.056783</td>\n",
       "      <td>2778.3834</td>\n",
       "    </tr>\n",
       "    <tr>\n",
       "      <th>8519</th>\n",
       "      <td>0.046982</td>\n",
       "      <td>549.2850</td>\n",
       "    </tr>\n",
       "    <tr>\n",
       "      <th>8520</th>\n",
       "      <td>0.035186</td>\n",
       "      <td>1193.1136</td>\n",
       "    </tr>\n",
       "    <tr>\n",
       "      <th>8521</th>\n",
       "      <td>0.145221</td>\n",
       "      <td>1845.5976</td>\n",
       "    </tr>\n",
       "    <tr>\n",
       "      <th>8522</th>\n",
       "      <td>0.044878</td>\n",
       "      <td>765.6700</td>\n",
       "    </tr>\n",
       "  </tbody>\n",
       "</table>\n",
       "<p>8523 rows × 2 columns</p>\n",
       "</div>"
      ],
      "text/plain": [
       "      Item_Visibility  Item_Outlet_Sales\n",
       "0            0.016047          3735.1380\n",
       "1            0.019278           443.4228\n",
       "2            0.016760          2097.2700\n",
       "3            0.000000           732.3800\n",
       "4            0.000000           994.7052\n",
       "...               ...                ...\n",
       "8518         0.056783          2778.3834\n",
       "8519         0.046982           549.2850\n",
       "8520         0.035186          1193.1136\n",
       "8521         0.145221          1845.5976\n",
       "8522         0.044878           765.6700\n",
       "\n",
       "[8523 rows x 2 columns]"
      ]
     },
     "execution_count": 19,
     "metadata": {},
     "output_type": "execute_result"
    }
   ],
   "source": [
    "bigmarttrain.iloc[:,[3,11]]"
   ]
  },
  {
   "cell_type": "code",
   "execution_count": 20,
   "id": "ecd5a56a",
   "metadata": {},
   "outputs": [
    {
     "data": {
      "text/html": [
       "<div>\n",
       "<style scoped>\n",
       "    .dataframe tbody tr th:only-of-type {\n",
       "        vertical-align: middle;\n",
       "    }\n",
       "\n",
       "    .dataframe tbody tr th {\n",
       "        vertical-align: top;\n",
       "    }\n",
       "\n",
       "    .dataframe thead th {\n",
       "        text-align: right;\n",
       "    }\n",
       "</style>\n",
       "<table border=\"1\" class=\"dataframe\">\n",
       "  <thead>\n",
       "    <tr style=\"text-align: right;\">\n",
       "      <th></th>\n",
       "      <th>Item_Identifier</th>\n",
       "      <th>Item_Weight</th>\n",
       "      <th>Item_Fat_Content</th>\n",
       "      <th>Item_Visibility</th>\n",
       "      <th>Item_Type</th>\n",
       "      <th>Item_MRP</th>\n",
       "      <th>Outlet_Identifier</th>\n",
       "      <th>Outlet_Establishment_Year</th>\n",
       "      <th>Outlet_Size</th>\n",
       "      <th>Outlet_Location_Type</th>\n",
       "      <th>Outlet_Type</th>\n",
       "      <th>Item_Outlet_Sales</th>\n",
       "    </tr>\n",
       "  </thead>\n",
       "  <tbody>\n",
       "    <tr>\n",
       "      <th>2</th>\n",
       "      <td>FDN15</td>\n",
       "      <td>17.500</td>\n",
       "      <td>Low Fat</td>\n",
       "      <td>0.016760</td>\n",
       "      <td>Meat</td>\n",
       "      <td>141.6180</td>\n",
       "      <td>OUT049</td>\n",
       "      <td>1999</td>\n",
       "      <td>Medium</td>\n",
       "      <td>Tier 1</td>\n",
       "      <td>Supermarket Type1</td>\n",
       "      <td>2097.2700</td>\n",
       "    </tr>\n",
       "    <tr>\n",
       "      <th>5</th>\n",
       "      <td>FDP36</td>\n",
       "      <td>10.395</td>\n",
       "      <td>Regular</td>\n",
       "      <td>0.000000</td>\n",
       "      <td>Baking Goods</td>\n",
       "      <td>51.4008</td>\n",
       "      <td>OUT018</td>\n",
       "      <td>2009</td>\n",
       "      <td>Medium</td>\n",
       "      <td>Tier 3</td>\n",
       "      <td>Supermarket Type2</td>\n",
       "      <td>556.6088</td>\n",
       "    </tr>\n",
       "    <tr>\n",
       "      <th>80</th>\n",
       "      <td>FDD58</td>\n",
       "      <td>7.760</td>\n",
       "      <td>Low Fat</td>\n",
       "      <td>0.059352</td>\n",
       "      <td>Snack Foods</td>\n",
       "      <td>101.8700</td>\n",
       "      <td>OUT046</td>\n",
       "      <td>1997</td>\n",
       "      <td>Small</td>\n",
       "      <td>Tier 1</td>\n",
       "      <td>Supermarket Type1</td>\n",
       "      <td>1697.7900</td>\n",
       "    </tr>\n",
       "    <tr>\n",
       "      <th>900</th>\n",
       "      <td>FDZ12</td>\n",
       "      <td>NaN</td>\n",
       "      <td>Low Fat</td>\n",
       "      <td>0.000000</td>\n",
       "      <td>Baking Goods</td>\n",
       "      <td>144.8470</td>\n",
       "      <td>OUT019</td>\n",
       "      <td>1985</td>\n",
       "      <td>Small</td>\n",
       "      <td>Tier 1</td>\n",
       "      <td>Grocery Store</td>\n",
       "      <td>143.1470</td>\n",
       "    </tr>\n",
       "    <tr>\n",
       "      <th>8000</th>\n",
       "      <td>FDS55</td>\n",
       "      <td>7.020</td>\n",
       "      <td>Low Fat</td>\n",
       "      <td>0.081329</td>\n",
       "      <td>Fruits and Vegetables</td>\n",
       "      <td>150.0734</td>\n",
       "      <td>OUT045</td>\n",
       "      <td>2002</td>\n",
       "      <td>NaN</td>\n",
       "      <td>Tier 2</td>\n",
       "      <td>Supermarket Type1</td>\n",
       "      <td>4454.2020</td>\n",
       "    </tr>\n",
       "  </tbody>\n",
       "</table>\n",
       "</div>"
      ],
      "text/plain": [
       "     Item_Identifier  Item_Weight Item_Fat_Content  Item_Visibility  \\\n",
       "2              FDN15       17.500          Low Fat         0.016760   \n",
       "5              FDP36       10.395          Regular         0.000000   \n",
       "80             FDD58        7.760          Low Fat         0.059352   \n",
       "900            FDZ12          NaN          Low Fat         0.000000   \n",
       "8000           FDS55        7.020          Low Fat         0.081329   \n",
       "\n",
       "                  Item_Type  Item_MRP Outlet_Identifier  \\\n",
       "2                      Meat  141.6180            OUT049   \n",
       "5              Baking Goods   51.4008            OUT018   \n",
       "80              Snack Foods  101.8700            OUT046   \n",
       "900            Baking Goods  144.8470            OUT019   \n",
       "8000  Fruits and Vegetables  150.0734            OUT045   \n",
       "\n",
       "      Outlet_Establishment_Year Outlet_Size Outlet_Location_Type  \\\n",
       "2                          1999      Medium               Tier 1   \n",
       "5                          2009      Medium               Tier 3   \n",
       "80                         1997       Small               Tier 1   \n",
       "900                        1985       Small               Tier 1   \n",
       "8000                       2002         NaN               Tier 2   \n",
       "\n",
       "            Outlet_Type  Item_Outlet_Sales  \n",
       "2     Supermarket Type1          2097.2700  \n",
       "5     Supermarket Type2           556.6088  \n",
       "80    Supermarket Type1          1697.7900  \n",
       "900       Grocery Store           143.1470  \n",
       "8000  Supermarket Type1          4454.2020  "
      ]
     },
     "execution_count": 20,
     "metadata": {},
     "output_type": "execute_result"
    }
   ],
   "source": [
    "bigmarttrain.loc[[2,5,80,900,8000]]"
   ]
  },
  {
   "cell_type": "code",
   "execution_count": 21,
   "id": "f8bb9a0b",
   "metadata": {},
   "outputs": [
    {
     "name": "stdout",
     "output_type": "stream",
     "text": [
      "1.1775306028542796\n",
      "1.6158766814287264\n"
     ]
    }
   ],
   "source": [
    "# Skewness and Kurtosis printing\n",
    "print(bigmarttrain.Item_Outlet_Sales.skew())\n",
    "print(bigmarttrain.Item_Outlet_Sales.kurt())"
   ]
  },
  {
   "cell_type": "code",
   "execution_count": 22,
   "id": "b6d296a2",
   "metadata": {},
   "outputs": [
    {
     "name": "stdout",
     "output_type": "stream",
     "text": [
      "1.18\n",
      "1.62\n"
     ]
    }
   ],
   "source": [
    "print(np.round(bigmarttrain.Item_Outlet_Sales.skew(), decimals=2))\n",
    "print(np.round(bigmarttrain.Item_Outlet_Sales.kurt(), decimals=2))"
   ]
  },
  {
   "cell_type": "code",
   "execution_count": 23,
   "id": "e3a55b8d",
   "metadata": {},
   "outputs": [
    {
     "data": {
      "text/plain": [
       "<AxesSubplot:ylabel='Frequency'>"
      ]
     },
     "execution_count": 23,
     "metadata": {},
     "output_type": "execute_result"
    },
    {
     "data": {
      "image/png": "[encoded data removed]",
      "text/plain": [
       "<Figure size 432x288 with 1 Axes>"
      ]
     },
     "metadata": {
      "needs_background": "light"
     },
     "output_type": "display_data"
    }
   ],
   "source": [
    "# Data visualization we primarily use Pandas plot functions\n",
    "bigmarttrain.Item_Outlet_Sales.plot(kind='hist')"
   ]
  },
  {
   "cell_type": "code",
   "execution_count": 24,
   "id": "9ef26da0",
   "metadata": {},
   "outputs": [
    {
     "data": {
      "text/plain": [
       "<AxesSubplot:>"
      ]
     },
     "execution_count": 24,
     "metadata": {},
     "output_type": "execute_result"
    },
    {
     "data": {
      "image/png": "[encoded data removed]",
      "text/plain": [
       "<Figure size 432x288 with 1 Axes>"
      ]
     },
     "metadata": {
      "needs_background": "light"
     },
     "output_type": "display_data"
    }
   ],
   "source": [
    "bigmarttrain.Item_Outlet_Sales.plot(kind='box',vert=False)"
   ]
  },
  {
   "cell_type": "code",
   "execution_count": 25,
   "id": "1a85387f",
   "metadata": {},
   "outputs": [
    {
     "data": {
      "text/plain": [
       "<AxesSubplot:ylabel='Density'>"
      ]
     },
     "execution_count": 25,
     "metadata": {},
     "output_type": "execute_result"
    },
    {
     "data": {
      "image/png": "[encoded data removed]",
      "text/plain": [
       "<Figure size 432x288 with 1 Axes>"
      ]
     },
     "metadata": {
      "needs_background": "light"
     },
     "output_type": "display_data"
    }
   ],
   "source": [
    "bigmarttrain.Item_Outlet_Sales.plot(kind='density')"
   ]
  },
  {
   "cell_type": "code",
   "execution_count": 26,
   "id": "c07910c7",
   "metadata": {},
   "outputs": [
    {
     "data": {
      "text/plain": [
       "<AxesSubplot:ylabel='Density'>"
      ]
     },
     "execution_count": 26,
     "metadata": {},
     "output_type": "execute_result"
    },
    {
     "data": {
      "image/png": "[encoded data removed]",
      "text/plain": [
       "<Figure size 432x288 with 1 Axes>"
      ]
     },
     "metadata": {
      "needs_background": "light"
     },
     "output_type": "display_data"
    }
   ],
   "source": [
    "# Create Histogram, Boxplot and Density Curve for item visibility\n",
    "bigmarttrain.Item_Visibility.plot(kind='hist')\n",
    "bigmarttrain.Item_Visibility.plot(kind='box', vert=False)\n",
    "bigmarttrain.Item_Visibility.plot(kind='density')"
   ]
  },
  {
   "cell_type": "code",
   "execution_count": 27,
   "id": "5a477c8c",
   "metadata": {},
   "outputs": [
    {
     "data": {
      "text/plain": [
       "<AxesSubplot:>"
      ]
     },
     "execution_count": 27,
     "metadata": {},
     "output_type": "execute_result"
    },
    {
     "data": {
      "image/png": "[encoded data removed]",
      "text/plain": [
       "<Figure size 432x288 with 1 Axes>"
      ]
     },
     "metadata": {
      "needs_background": "light"
     },
     "output_type": "display_data"
    }
   ],
   "source": [
    "bigmarttrain.Item_Visibility.plot(kind='box', vert=False)"
   ]
  },
  {
   "cell_type": "code",
   "execution_count": 28,
   "id": "3799668a",
   "metadata": {},
   "outputs": [
    {
     "data": {
      "text/plain": [
       "<AxesSubplot:ylabel='Density'>"
      ]
     },
     "execution_count": 28,
     "metadata": {},
     "output_type": "execute_result"
    },
    {
     "data": {
      "image/png": "[encoded data removed]",
      "text/plain": [
       "<Figure size 432x288 with 1 Axes>"
      ]
     },
     "metadata": {
      "needs_background": "light"
     },
     "output_type": "display_data"
    }
   ],
   "source": [
    "bigmarttrain.Item_Visibility.plot(kind='density')"
   ]
  },
  {
   "cell_type": "code",
   "execution_count": 29,
   "id": "cb6ea06d",
   "metadata": {},
   "outputs": [
    {
     "data": {
      "text/plain": [
       "Outlet_Type\n",
       "Grocery Store         339.828500\n",
       "Supermarket Type1    2316.181148\n",
       "Supermarket Type2    1995.498739\n",
       "Supermarket Type3    3694.038558\n",
       "Name: Item_Outlet_Sales, dtype: float64"
      ]
     },
     "execution_count": 29,
     "metadata": {},
     "output_type": "execute_result"
    }
   ],
   "source": [
    "# groupby() function is similar to aggregate() in R\n",
    "# What is the Average Item_Outlet_Sales of different Outlet_Type\n",
    "bigmarttrain.Item_Outlet_Sales.groupby(bigmarttrain.Outlet_Type).mean()\n",
    "# Left side of groupby() must be Numerical\n",
    "# Within groupby brackets categorical variable\n",
    "# Statistical function must be specified"
   ]
  },
  {
   "cell_type": "code",
   "execution_count": 30,
   "id": "acda3231",
   "metadata": {},
   "outputs": [
    {
     "data": {
      "text/plain": [
       "Outlet_Location_Type\n",
       "Tier 1    140.870106\n",
       "Tier 2    141.167196\n",
       "Tier 3    140.935232\n",
       "Name: Item_MRP, dtype: float64"
      ]
     },
     "execution_count": 30,
     "metadata": {},
     "output_type": "execute_result"
    }
   ],
   "source": [
    "# What is the Average Item_MRP for different Outlet_Location_Type?\n",
    "bigmarttrain.Item_MRP.groupby(bigmarttrain.Outlet_Location_Type).mean()"
   ]
  },
  {
   "cell_type": "code",
   "execution_count": 31,
   "id": "4d78481c",
   "metadata": {},
   "outputs": [
    {
     "data": {
      "text/plain": [
       "Outlet_Size\n",
       "High      0.049587\n",
       "Medium    0.048842\n",
       "Small     0.057810\n",
       "Name: Item_Visibility, dtype: float64"
      ]
     },
     "execution_count": 31,
     "metadata": {},
     "output_type": "execute_result"
    }
   ],
   "source": [
    "# What is the Median Item_Visibility for different Outlet_size\n",
    "bigmarttrain.Item_Visibility.groupby(bigmarttrain.Outlet_Size).median()"
   ]
  },
  {
   "cell_type": "code",
   "execution_count": 32,
   "id": "5122a48b",
   "metadata": {},
   "outputs": [],
   "source": [
    "bigmarttest=pd.read_csv(\"Test_u94Q5KV.csv\")"
   ]
  },
  {
   "cell_type": "code",
   "execution_count": 33,
   "id": "36a2f986",
   "metadata": {},
   "outputs": [],
   "source": [
    "# Data Preprocessing\n",
    "# 1) Check for Duplicate Variables\n",
    "# 2) Check for Single Value Columns - Min = Max\n",
    "# 3) Missing values : Above 70% missing, impute with word \"missing\"\n",
    "# less than 70% missing - Numeric Var - mean or median, Non numeric - Most frequent algorithm - KNN Imputer()\n",
    "# 4) Data Transformations\n",
    "# Dependent Variable - Skewness and Outliers\n",
    "# +ve skewness - logarithmic or Square root Transformation\n",
    "#-ve skewness - Exponential or Power transformation\n",
    "# Independent Variables\n",
    "# Standard Scaler - (X-mean)/SD, will give -ve values\n",
    "# Normalisation or Min Max Scaler (X-Xmin)/(Xmax-Xmin) gives only in range of 0 to 1. No negative values\n",
    "# Robust Scaler - "
   ]
  },
  {
   "cell_type": "code",
   "execution_count": 34,
   "id": "1b192354",
   "metadata": {},
   "outputs": [],
   "source": [
    "bigmarttest['Item_Outlet_Sales']='test'"
   ]
  },
  {
   "cell_type": "code",
   "execution_count": 35,
   "id": "2c9e92e9",
   "metadata": {},
   "outputs": [],
   "source": [
    "# Row wise Concatenation of train and test data for preprocessing\n",
    "combinedf=pd.concat([bigmarttrain,bigmarttest],axis=0)\n",
    "# axis = 0 is Row Concatenation\n",
    "# axis = 1 is Column Concatenation"
   ]
  },
  {
   "cell_type": "code",
   "execution_count": 36,
   "id": "7bc97539",
   "metadata": {},
   "outputs": [
    {
     "data": {
      "text/plain": [
       "(14204, 12)"
      ]
     },
     "execution_count": 36,
     "metadata": {},
     "output_type": "execute_result"
    }
   ],
   "source": [
    "combinedf.shape"
   ]
  },
  {
   "cell_type": "code",
   "execution_count": 37,
   "id": "d172b41d",
   "metadata": {},
   "outputs": [
    {
     "data": {
      "text/html": [
       "<div>\n",
       "<style scoped>\n",
       "    .dataframe tbody tr th:only-of-type {\n",
       "        vertical-align: middle;\n",
       "    }\n",
       "\n",
       "    .dataframe tbody tr th {\n",
       "        vertical-align: top;\n",
       "    }\n",
       "\n",
       "    .dataframe thead th {\n",
       "        text-align: right;\n",
       "    }\n",
       "</style>\n",
       "<table border=\"1\" class=\"dataframe\">\n",
       "  <thead>\n",
       "    <tr style=\"text-align: right;\">\n",
       "      <th></th>\n",
       "      <th>Item_Identifier</th>\n",
       "      <th>Item_Weight</th>\n",
       "      <th>Item_Fat_Content</th>\n",
       "      <th>Item_Visibility</th>\n",
       "      <th>Item_Type</th>\n",
       "      <th>Item_MRP</th>\n",
       "      <th>Outlet_Identifier</th>\n",
       "      <th>Outlet_Establishment_Year</th>\n",
       "      <th>Outlet_Size</th>\n",
       "      <th>Outlet_Location_Type</th>\n",
       "      <th>Outlet_Type</th>\n",
       "      <th>Item_Outlet_Sales</th>\n",
       "    </tr>\n",
       "  </thead>\n",
       "  <tbody>\n",
       "    <tr>\n",
       "      <th>5678</th>\n",
       "      <td>NCO17</td>\n",
       "      <td>10.0</td>\n",
       "      <td>Low Fat</td>\n",
       "      <td>0.073529</td>\n",
       "      <td>Health and Hygiene</td>\n",
       "      <td>118.7440</td>\n",
       "      <td>OUT045</td>\n",
       "      <td>2002</td>\n",
       "      <td>NaN</td>\n",
       "      <td>Tier 2</td>\n",
       "      <td>Supermarket Type1</td>\n",
       "      <td>test</td>\n",
       "    </tr>\n",
       "    <tr>\n",
       "      <th>5679</th>\n",
       "      <td>FDJ26</td>\n",
       "      <td>15.3</td>\n",
       "      <td>Regular</td>\n",
       "      <td>0.000000</td>\n",
       "      <td>Canned</td>\n",
       "      <td>214.6218</td>\n",
       "      <td>OUT017</td>\n",
       "      <td>2007</td>\n",
       "      <td>NaN</td>\n",
       "      <td>Tier 2</td>\n",
       "      <td>Supermarket Type1</td>\n",
       "      <td>test</td>\n",
       "    </tr>\n",
       "    <tr>\n",
       "      <th>5680</th>\n",
       "      <td>FDU37</td>\n",
       "      <td>9.5</td>\n",
       "      <td>Regular</td>\n",
       "      <td>0.104720</td>\n",
       "      <td>Canned</td>\n",
       "      <td>79.7960</td>\n",
       "      <td>OUT045</td>\n",
       "      <td>2002</td>\n",
       "      <td>NaN</td>\n",
       "      <td>Tier 2</td>\n",
       "      <td>Supermarket Type1</td>\n",
       "      <td>test</td>\n",
       "    </tr>\n",
       "  </tbody>\n",
       "</table>\n",
       "</div>"
      ],
      "text/plain": [
       "     Item_Identifier  Item_Weight Item_Fat_Content  Item_Visibility  \\\n",
       "5678           NCO17         10.0          Low Fat         0.073529   \n",
       "5679           FDJ26         15.3          Regular         0.000000   \n",
       "5680           FDU37          9.5          Regular         0.104720   \n",
       "\n",
       "               Item_Type  Item_MRP Outlet_Identifier  \\\n",
       "5678  Health and Hygiene  118.7440            OUT045   \n",
       "5679              Canned  214.6218            OUT017   \n",
       "5680              Canned   79.7960            OUT045   \n",
       "\n",
       "      Outlet_Establishment_Year Outlet_Size Outlet_Location_Type  \\\n",
       "5678                       2002         NaN               Tier 2   \n",
       "5679                       2007         NaN               Tier 2   \n",
       "5680                       2002         NaN               Tier 2   \n",
       "\n",
       "            Outlet_Type Item_Outlet_Sales  \n",
       "5678  Supermarket Type1              test  \n",
       "5679  Supermarket Type1              test  \n",
       "5680  Supermarket Type1              test  "
      ]
     },
     "execution_count": 37,
     "metadata": {},
     "output_type": "execute_result"
    }
   ],
   "source": [
    "combinedf.tail(3)"
   ]
  },
  {
   "cell_type": "code",
   "execution_count": 38,
   "id": "c5cdfc14",
   "metadata": {},
   "outputs": [
    {
     "data": {
      "text/plain": [
       "Outlet_Size                  4016\n",
       "Item_Weight                  2439\n",
       "Item_Identifier                 0\n",
       "Item_Fat_Content                0\n",
       "Item_Visibility                 0\n",
       "Item_Type                       0\n",
       "Item_MRP                        0\n",
       "Outlet_Identifier               0\n",
       "Outlet_Establishment_Year       0\n",
       "Outlet_Location_Type            0\n",
       "Outlet_Type                     0\n",
       "Item_Outlet_Sales               0\n",
       "dtype: int64"
      ]
     },
     "execution_count": 38,
     "metadata": {},
     "output_type": "execute_result"
    }
   ],
   "source": [
    "combinedf.isnull().sum().sort_values(ascending=False)"
   ]
  },
  {
   "cell_type": "code",
   "execution_count": 39,
   "id": "120dbb04",
   "metadata": {},
   "outputs": [
    {
     "data": {
      "text/plain": [
       "Medium    4655\n",
       "NaN       4016\n",
       "Small     3980\n",
       "High      1553\n",
       "Name: Outlet_Size, dtype: int64"
      ]
     },
     "execution_count": 39,
     "metadata": {},
     "output_type": "execute_result"
    }
   ],
   "source": [
    "combinedf.Outlet_Size.value_counts(dropna=False)"
   ]
  },
  {
   "cell_type": "code",
   "execution_count": 40,
   "id": "aa787b29",
   "metadata": {},
   "outputs": [],
   "source": [
    "combinedf.Outlet_Size=combinedf.Outlet_Size.fillna(\"Missing\")"
   ]
  },
  {
   "cell_type": "code",
   "execution_count": 41,
   "id": "9c82e414",
   "metadata": {},
   "outputs": [
    {
     "data": {
      "text/plain": [
       "count    11765.000000\n",
       "mean        12.792854\n",
       "std          4.652502\n",
       "min          4.555000\n",
       "25%          8.710000\n",
       "50%         12.600000\n",
       "75%         16.750000\n",
       "max         21.350000\n",
       "Name: Item_Weight, dtype: float64"
      ]
     },
     "execution_count": 41,
     "metadata": {},
     "output_type": "execute_result"
    }
   ],
   "source": [
    "combinedf.Item_Weight.describe()"
   ]
  },
  {
   "cell_type": "code",
   "execution_count": 42,
   "id": "dc6d0a29",
   "metadata": {},
   "outputs": [],
   "source": [
    "combinedf.Item_Weight=combinedf.Item_Weight.fillna(combinedf.Item_Weight.mean())"
   ]
  },
  {
   "cell_type": "code",
   "execution_count": 43,
   "id": "d7e5a0f2",
   "metadata": {},
   "outputs": [
    {
     "data": {
      "text/plain": [
       "Index(['Item_Identifier', 'Item_Weight', 'Item_Fat_Content', 'Item_Visibility',\n",
       "       'Item_Type', 'Item_MRP', 'Outlet_Identifier',\n",
       "       'Outlet_Establishment_Year', 'Outlet_Size', 'Outlet_Location_Type',\n",
       "       'Outlet_Type', 'Item_Outlet_Sales'],\n",
       "      dtype='object')"
      ]
     },
     "execution_count": 43,
     "metadata": {},
     "output_type": "execute_result"
    }
   ],
   "source": [
    "combinedf.columns"
   ]
  },
  {
   "cell_type": "code",
   "execution_count": 44,
   "id": "9cb7c360",
   "metadata": {},
   "outputs": [
    {
     "data": {
      "text/plain": [
       "0    FDA15\n",
       "1    DRC01\n",
       "2    FDN15\n",
       "3    FDX07\n",
       "4    NCD19\n",
       "Name: Item_Identifier, dtype: object"
      ]
     },
     "execution_count": 44,
     "metadata": {},
     "output_type": "execute_result"
    }
   ],
   "source": [
    "combinedf.Item_Identifier.head()"
   ]
  },
  {
   "cell_type": "code",
   "execution_count": 45,
   "id": "b1be3a7d",
   "metadata": {},
   "outputs": [],
   "source": [
    "# Extract Item_Code from Item_Identifier\n",
    "combinedf['Item_Code']=combinedf.Item_Identifier.apply(lambda x:x[0:2])"
   ]
  },
  {
   "cell_type": "code",
   "execution_count": 46,
   "id": "06dc075d",
   "metadata": {},
   "outputs": [
    {
     "data": {
      "text/plain": [
       "FD    10201\n",
       "NC     2686\n",
       "DR     1317\n",
       "Name: Item_Code, dtype: int64"
      ]
     },
     "execution_count": 46,
     "metadata": {},
     "output_type": "execute_result"
    }
   ],
   "source": [
    "combinedf.Item_Code.value_counts() # FD-Food, NC-Non -Consumable, Dr-Drinks"
   ]
  },
  {
   "cell_type": "code",
   "execution_count": 47,
   "id": "f1e86075",
   "metadata": {},
   "outputs": [
    {
     "data": {
      "text/plain": [
       "Low Fat    8485\n",
       "Regular    4824\n",
       "LF          522\n",
       "reg         195\n",
       "low fat     178\n",
       "Name: Item_Fat_Content, dtype: int64"
      ]
     },
     "execution_count": 47,
     "metadata": {},
     "output_type": "execute_result"
    }
   ],
   "source": [
    "combinedf.Item_Fat_Content.value_counts()"
   ]
  },
  {
   "cell_type": "code",
   "execution_count": 48,
   "id": "4539dd01",
   "metadata": {},
   "outputs": [],
   "source": [
    "combinedf.Item_Fat_Content=combinedf.Item_Fat_Content.replace([\"LF\",\"low fat\"],\"Low Fat\")"
   ]
  },
  {
   "cell_type": "code",
   "execution_count": 49,
   "id": "d3110618",
   "metadata": {},
   "outputs": [],
   "source": [
    "combinedf.Item_Fat_Content=combinedf.Item_Fat_Content.replace([\"reg\"],\"Regular\")"
   ]
  },
  {
   "cell_type": "code",
   "execution_count": 50,
   "id": "d4b1f48a",
   "metadata": {},
   "outputs": [],
   "source": [
    "# Calculate Outlet_Age from Outlet_Establishment_Year as of 2021\n",
    "combinedf[\"Outlet_Age\"]=2021-combinedf.Outlet_Establishment_Year"
   ]
  },
  {
   "cell_type": "code",
   "execution_count": 51,
   "id": "44c41507",
   "metadata": {},
   "outputs": [
    {
     "data": {
      "text/plain": [
       "count    14204.000000\n",
       "mean        23.169319\n",
       "std          8.371664\n",
       "min         12.000000\n",
       "25%         17.000000\n",
       "50%         22.000000\n",
       "75%         34.000000\n",
       "max         36.000000\n",
       "Name: Outlet_Age, dtype: float64"
      ]
     },
     "execution_count": 51,
     "metadata": {},
     "output_type": "execute_result"
    }
   ],
   "source": [
    "combinedf.Outlet_Age.describe()"
   ]
  },
  {
   "cell_type": "code",
   "execution_count": 52,
   "id": "ecf22e7d",
   "metadata": {},
   "outputs": [
    {
     "data": {
      "text/plain": [
       "Index(['Item_Identifier', 'Item_Weight', 'Item_Fat_Content', 'Item_Visibility',\n",
       "       'Item_Type', 'Item_MRP', 'Outlet_Identifier',\n",
       "       'Outlet_Establishment_Year', 'Outlet_Size', 'Outlet_Location_Type',\n",
       "       'Outlet_Type', 'Item_Outlet_Sales', 'Item_Code', 'Outlet_Age'],\n",
       "      dtype='object')"
      ]
     },
     "execution_count": 52,
     "metadata": {},
     "output_type": "execute_result"
    }
   ],
   "source": [
    "combinedf.columns"
   ]
  },
  {
   "cell_type": "code",
   "execution_count": 53,
   "id": "4dbfb01e",
   "metadata": {},
   "outputs": [],
   "source": [
    "numericcolumns=combinedf[[\"Item_Weight\",\"Item_Visibility\",\"Item_MRP\",\"Outlet_Age\",\"Item_Outlet_Sales\"]]"
   ]
  },
  {
   "cell_type": "code",
   "execution_count": 54,
   "id": "a2ce51b6",
   "metadata": {},
   "outputs": [],
   "source": [
    "objectcolumns=combinedf[[\"Item_Fat_Content\",\"Item_Type\",\"Outlet_Identifier\",\"Outlet_Size\",\"Outlet_Location_Type\",\n",
    "                         \"Outlet_Type\",\"Item_Code\"]]"
   ]
  },
  {
   "cell_type": "code",
   "execution_count": 55,
   "id": "04453346",
   "metadata": {},
   "outputs": [],
   "source": [
    "objectcolumnsdummy=pd.get_dummies(objectcolumns,columns=[\"Item_Fat_Content\",\"Item_Type\",\"Outlet_Identifier\",\"Outlet_Size\",\n",
    "                                                        \"Outlet_Location_Type\", \"Outlet_Type\",\"Item_Code\"])"
   ]
  },
  {
   "cell_type": "code",
   "execution_count": 56,
   "id": "d4d706ed",
   "metadata": {},
   "outputs": [
    {
     "data": {
      "text/plain": [
       "(14204, 42)"
      ]
     },
     "execution_count": 56,
     "metadata": {},
     "output_type": "execute_result"
    }
   ],
   "source": [
    "objectcolumnsdummy.shape"
   ]
  },
  {
   "cell_type": "code",
   "execution_count": 57,
   "id": "b3f85ff1",
   "metadata": {},
   "outputs": [],
   "source": [
    "#Columnwise concatenation of Numeric and Object dummy columns\n",
    "combinedfclean=pd.concat([numericcolumns,objectcolumnsdummy],axis=1)"
   ]
  },
  {
   "cell_type": "code",
   "execution_count": 58,
   "id": "e9cccad8",
   "metadata": {},
   "outputs": [],
   "source": [
    "#Split Data into train and test\n",
    "bigmarttraindf=combinedfclean[combinedfclean.Item_Outlet_Sales!=\"test\"]\n",
    "bigmarttestdf=combinedfclean[combinedfclean.Item_Outlet_Sales==\"test\"]"
   ]
  },
  {
   "cell_type": "code",
   "execution_count": 59,
   "id": "fff83cd5",
   "metadata": {},
   "outputs": [],
   "source": [
    "# Drop Dependent variable Item_Outlet_Sales from test data\n",
    "bigmarttestdf=bigmarttraindf.drop(\"Item_Outlet_Sales\",axis=1)"
   ]
  },
  {
   "cell_type": "code",
   "execution_count": 60,
   "id": "c74c81bb",
   "metadata": {},
   "outputs": [
    {
     "data": {
      "text/plain": [
       "dtype('O')"
      ]
     },
     "execution_count": 60,
     "metadata": {},
     "output_type": "execute_result"
    }
   ],
   "source": [
    "bigmarttraindf.Item_Outlet_Sales.dtype"
   ]
  },
  {
   "cell_type": "code",
   "execution_count": 61,
   "id": "7413ad53",
   "metadata": {},
   "outputs": [
    {
     "name": "stderr",
     "output_type": "stream",
     "text": [
      "C:\\Users\\Home\\anaconda3\\lib\\site-packages\\pandas\\core\\generic.py:5516: SettingWithCopyWarning: \n",
      "A value is trying to be set on a copy of a slice from a DataFrame.\n",
      "Try using .loc[row_indexer,col_indexer] = value instead\n",
      "\n",
      "See the caveats in the documentation: https://pandas.pydata.org/pandas-docs/stable/user_guide/indexing.html#returning-a-view-versus-a-copy\n",
      "  self[name] = value\n"
     ]
    }
   ],
   "source": [
    "# Convert Dependent variable Item_Outlet_Sales as numeric from Object\n",
    "bigmarttraindf.Item_Outlet_Sales=bigmarttraindf.Item_Outlet_Sales.astype(\"float64\")"
   ]
  },
  {
   "cell_type": "code",
   "execution_count": 62,
   "id": "9265c8b3",
   "metadata": {},
   "outputs": [],
   "source": [
    "# Inferential statistics -Hypothesis testing-Comparision of means or averages of 2 or more than 2 groups/levels/classes\n",
    "# One Numerical - other categorical variable with exactly 2 levels-2 Sample Independent t-test\n",
    "# One numerical- other categorical with more than 2 levels - Anova single factor test or One way Anova\n",
    "# Both Variables are Non numeric & Categorical - Chi square test of Independence\n",
    "# Both Variables are Numerical Covariance & Correlation\n",
    "# Paired sample t test or Dependent sample t test - Before & After"
   ]
  },
  {
   "cell_type": "code",
   "execution_count": 63,
   "id": "a26fa093",
   "metadata": {},
   "outputs": [],
   "source": [
    "bigmarttrain.Item_Fat_Content=bigmarttrain.Item_Fat_Content.replace([\"LF\",\"low fat\"],\"Low Fat\")"
   ]
  },
  {
   "cell_type": "code",
   "execution_count": 64,
   "id": "f85ee677",
   "metadata": {},
   "outputs": [],
   "source": [
    "bigmarttrain.Item_Fat_Content=bigmarttrain.Item_Fat_Content.replace(\"reg\",\"Regular\")"
   ]
  },
  {
   "cell_type": "code",
   "execution_count": 65,
   "id": "ec5e2091",
   "metadata": {},
   "outputs": [
    {
     "data": {
      "text/plain": [
       "Item_Fat_Content\n",
       "Low Fat    2157.711534\n",
       "Regular    2224.561170\n",
       "Name: Item_Outlet_Sales, dtype: float64"
      ]
     },
     "execution_count": 65,
     "metadata": {},
     "output_type": "execute_result"
    }
   ],
   "source": [
    "# Only One variable with exactly 2 levels - Item_Fat_Content\n",
    "bigmarttrain.Item_Outlet_Sales.groupby(bigmarttrain.Item_Fat_Content).mean()"
   ]
  },
  {
   "cell_type": "code",
   "execution_count": 66,
   "id": "ca117c90",
   "metadata": {},
   "outputs": [],
   "source": [
    "# Seperate or Split data into low Fat and Regular\n",
    "lf=bigmarttrain[bigmarttrain.Item_Fat_Content==\"Low Fat\"]\n",
    "reg=bigmarttrain[bigmarttrain.Item_Fat_Content==\"Regular\"]"
   ]
  },
  {
   "cell_type": "code",
   "execution_count": 67,
   "id": "42b66621",
   "metadata": {},
   "outputs": [],
   "source": [
    "# Null_H0:No Significant difference in Average Item_Outlet_Sales of different Item_Fat_Content\n",
    "# Alt_H1: Significant difference in Average Item_Outlet_Sales of different Item_Fat_Content"
   ]
  },
  {
   "cell_type": "code",
   "execution_count": 68,
   "id": "3edcd938",
   "metadata": {},
   "outputs": [],
   "source": [
    "from scipy.stats import ttest_ind"
   ]
  },
  {
   "cell_type": "code",
   "execution_count": 69,
   "id": "bf43f3a3",
   "metadata": {},
   "outputs": [
    {
     "data": {
      "text/plain": [
       "Ttest_indResult(statistic=-1.7212101304652165, pvalue=0.08526339464728244)"
      ]
     },
     "execution_count": 69,
     "metadata": {},
     "output_type": "execute_result"
    }
   ],
   "source": [
    "ttest_ind(lf.Item_Outlet_Sales,reg.Item_Outlet_Sales,equal_var=False)\n",
    "# Since p-value = 0.08526 is greater than 0.05, Fail to REJECT Null Hypothesis (ACCEPT NULL)\n",
    "# t statistic = (mean1 - mean2)/sqrt([var1/N1+var2/N2])"
   ]
  },
  {
   "cell_type": "code",
   "execution_count": 70,
   "id": "b39fe3ab",
   "metadata": {},
   "outputs": [],
   "source": [
    "# Test Null the Average Item_Visibility of Low Fat and Regular are Equal\n",
    "# groupby mean()\n",
    "# group by var()\n",
    "# Null & Alt\n",
    "# Conduct Test\n",
    "# infer"
   ]
  },
  {
   "cell_type": "code",
   "execution_count": 71,
   "id": "cd799ee2",
   "metadata": {},
   "outputs": [
    {
     "data": {
      "text/plain": [
       "Item_Fat_Content\n",
       "Low Fat    0.064330\n",
       "Regular    0.069439\n",
       "Name: Item_Visibility, dtype: float64"
      ]
     },
     "execution_count": 71,
     "metadata": {},
     "output_type": "execute_result"
    }
   ],
   "source": [
    "bigmarttrain.Item_Visibility.groupby(bigmarttrain.Item_Fat_Content).mean()"
   ]
  },
  {
   "cell_type": "code",
   "execution_count": 72,
   "id": "aa48f4ac",
   "metadata": {},
   "outputs": [
    {
     "data": {
      "text/plain": [
       "Item_Fat_Content\n",
       "Low Fat    0.002619\n",
       "Regular    0.002726\n",
       "Name: Item_Visibility, dtype: float64"
      ]
     },
     "execution_count": 72,
     "metadata": {},
     "output_type": "execute_result"
    }
   ],
   "source": [
    "bigmarttrain.Item_Visibility.groupby(bigmarttrain.Item_Fat_Content).var()"
   ]
  },
  {
   "cell_type": "code",
   "execution_count": 73,
   "id": "a5d8e381",
   "metadata": {},
   "outputs": [],
   "source": [
    "# Null_H0:No Significant difference in Average Item_Visibility of different Item_Fat_Content\n",
    "# Alt_H1: Significant difference in Average Item_Visibility of different Item_Fat_Content"
   ]
  },
  {
   "cell_type": "code",
   "execution_count": 74,
   "id": "5a4495ce",
   "metadata": {},
   "outputs": [],
   "source": [
    "from scipy.stats import ttest_ind"
   ]
  },
  {
   "cell_type": "code",
   "execution_count": 75,
   "id": "d1e41487",
   "metadata": {},
   "outputs": [
    {
     "data": {
      "text/plain": [
       "Ttest_indResult(statistic=-4.34668233685042, pvalue=1.404696156360228e-05)"
      ]
     },
     "execution_count": 75,
     "metadata": {},
     "output_type": "execute_result"
    }
   ],
   "source": [
    "ttest_ind(lf.Item_Visibility,reg.Item_Visibility,equal_var=False)"
   ]
  },
  {
   "cell_type": "code",
   "execution_count": 76,
   "id": "1402a787",
   "metadata": {},
   "outputs": [],
   "source": [
    "# pvalue=1.404696156360228e-05 < 0.05 we reject null"
   ]
  },
  {
   "cell_type": "code",
   "execution_count": 77,
   "id": "67ce41f3",
   "metadata": {},
   "outputs": [
    {
     "data": {
      "text/plain": [
       "Low Fat    5517\n",
       "Regular    3006\n",
       "Name: Item_Fat_Content, dtype: int64"
      ]
     },
     "execution_count": 77,
     "metadata": {},
     "output_type": "execute_result"
    }
   ],
   "source": [
    "bigmarttrain.Item_Fat_Content.value_counts()"
   ]
  },
  {
   "cell_type": "code",
   "execution_count": 78,
   "id": "da861ba6",
   "metadata": {},
   "outputs": [
    {
     "data": {
      "text/plain": [
       "-4.3466017621775075"
      ]
     },
     "execution_count": 78,
     "metadata": {},
     "output_type": "execute_result"
    }
   ],
   "source": [
    "(0.064330-0.069439)/np.sqrt((0.002619/5517)+(0.002726/3006))"
   ]
  },
  {
   "cell_type": "code",
   "execution_count": 79,
   "id": "46c75bd1",
   "metadata": {},
   "outputs": [
    {
     "data": {
      "text/plain": [
       "Outlet_Type\n",
       "Grocery Store         339.828500\n",
       "Supermarket Type1    2316.181148\n",
       "Supermarket Type2    1995.498739\n",
       "Supermarket Type3    3694.038558\n",
       "Name: Item_Outlet_Sales, dtype: float64"
      ]
     },
     "execution_count": 79,
     "metadata": {},
     "output_type": "execute_result"
    }
   ],
   "source": [
    "# Test Null Average Item_Outlet_Sales for different Outlet_Type equal?\n",
    "bigmarttrain.Item_Outlet_Sales.groupby(bigmarttrain.Outlet_Type).mean()"
   ]
  },
  {
   "cell_type": "code",
   "execution_count": 80,
   "id": "4bcece87",
   "metadata": {},
   "outputs": [],
   "source": [
    "gs=bigmarttrain[bigmarttrain.Outlet_Type==\"Grocery Store\"]\n",
    "st1=bigmarttrain[bigmarttrain.Outlet_Type==\"Supermarket Type1\"]\n",
    "st2=bigmarttrain[bigmarttrain.Outlet_Type==\"Supermarket Type2\"]\n",
    "st3=bigmarttrain[bigmarttrain.Outlet_Type==\"Supermarket Type3\"]"
   ]
  },
  {
   "cell_type": "code",
   "execution_count": 81,
   "id": "f18f8c5c",
   "metadata": {},
   "outputs": [],
   "source": [
    "from scipy.stats import f_oneway"
   ]
  },
  {
   "cell_type": "code",
   "execution_count": 82,
   "id": "69220e35",
   "metadata": {},
   "outputs": [
    {
     "data": {
      "text/plain": [
       "F_onewayResult(statistic=894.6500119018012, pvalue=0.0)"
      ]
     },
     "execution_count": 82,
     "metadata": {},
     "output_type": "execute_result"
    }
   ],
   "source": [
    "f_oneway(gs.Item_Outlet_Sales,st1.Item_Outlet_Sales,st2.Item_Outlet_Sales,st3.Item_Outlet_Sales)"
   ]
  },
  {
   "cell_type": "code",
   "execution_count": 83,
   "id": "25037b43",
   "metadata": {},
   "outputs": [],
   "source": [
    "# Since p-value <0.05, Reject Null Hyp\n",
    "# Null_ There is no significant difference in Average Item_Outlet_Sales of different Outlet_Type"
   ]
  },
  {
   "cell_type": "code",
   "execution_count": 84,
   "id": "4e3e9708",
   "metadata": {},
   "outputs": [
    {
     "data": {
      "text/plain": [
       "Outlet_Type\n",
       "Grocery Store        140.294688\n",
       "Supermarket Type1    141.213894\n",
       "Supermarket Type2    141.678634\n",
       "Supermarket Type3    139.801791\n",
       "Name: Item_MRP, dtype: float64"
      ]
     },
     "execution_count": 84,
     "metadata": {},
     "output_type": "execute_result"
    }
   ],
   "source": [
    "# Test Null Average Item_MRP of different Outlet_Type equal?\n",
    "bigmarttrain.Item_MRP.groupby(bigmarttrain.Outlet_Type).mean()"
   ]
  },
  {
   "cell_type": "code",
   "execution_count": 85,
   "id": "bb01b0a3",
   "metadata": {},
   "outputs": [],
   "source": [
    "from scipy.stats import f_oneway"
   ]
  },
  {
   "cell_type": "code",
   "execution_count": 86,
   "id": "9c5ce68a",
   "metadata": {},
   "outputs": [
    {
     "data": {
      "text/plain": [
       "F_onewayResult(statistic=0.22025149361820015, pvalue=0.8823906488320122)"
      ]
     },
     "execution_count": 86,
     "metadata": {},
     "output_type": "execute_result"
    }
   ],
   "source": [
    "f_oneway(gs.Item_MRP,st1.Item_MRP,st2.Item_MRP,st3.Item_MRP)"
   ]
  },
  {
   "cell_type": "code",
   "execution_count": 87,
   "id": "7beda484",
   "metadata": {},
   "outputs": [],
   "source": [
    "# Since p-value > 0.05, fail to reject Null Hyp\n",
    "# Difference in Means is statistically Insignificant"
   ]
  },
  {
   "cell_type": "code",
   "execution_count": 88,
   "id": "68cc38de",
   "metadata": {},
   "outputs": [
    {
     "data": {
      "text/html": [
       "<div>\n",
       "<style scoped>\n",
       "    .dataframe tbody tr th:only-of-type {\n",
       "        vertical-align: middle;\n",
       "    }\n",
       "\n",
       "    .dataframe tbody tr th {\n",
       "        vertical-align: top;\n",
       "    }\n",
       "\n",
       "    .dataframe thead th {\n",
       "        text-align: right;\n",
       "    }\n",
       "</style>\n",
       "<table border=\"1\" class=\"dataframe\">\n",
       "  <thead>\n",
       "    <tr style=\"text-align: right;\">\n",
       "      <th>Outlet_Location_Type</th>\n",
       "      <th>Tier 1</th>\n",
       "      <th>Tier 2</th>\n",
       "      <th>Tier 3</th>\n",
       "    </tr>\n",
       "    <tr>\n",
       "      <th>Outlet_Type</th>\n",
       "      <th></th>\n",
       "      <th></th>\n",
       "      <th></th>\n",
       "    </tr>\n",
       "  </thead>\n",
       "  <tbody>\n",
       "    <tr>\n",
       "      <th>Grocery Store</th>\n",
       "      <td>528</td>\n",
       "      <td>0</td>\n",
       "      <td>555</td>\n",
       "    </tr>\n",
       "    <tr>\n",
       "      <th>Supermarket Type1</th>\n",
       "      <td>1860</td>\n",
       "      <td>2785</td>\n",
       "      <td>932</td>\n",
       "    </tr>\n",
       "    <tr>\n",
       "      <th>Supermarket Type2</th>\n",
       "      <td>0</td>\n",
       "      <td>0</td>\n",
       "      <td>928</td>\n",
       "    </tr>\n",
       "    <tr>\n",
       "      <th>Supermarket Type3</th>\n",
       "      <td>0</td>\n",
       "      <td>0</td>\n",
       "      <td>935</td>\n",
       "    </tr>\n",
       "  </tbody>\n",
       "</table>\n",
       "</div>"
      ],
      "text/plain": [
       "Outlet_Location_Type  Tier 1  Tier 2  Tier 3\n",
       "Outlet_Type                                 \n",
       "Grocery Store            528       0     555\n",
       "Supermarket Type1       1860    2785     932\n",
       "Supermarket Type2          0       0     928\n",
       "Supermarket Type3          0       0     935"
      ]
     },
     "execution_count": 88,
     "metadata": {},
     "output_type": "execute_result"
    }
   ],
   "source": [
    "pd.crosstab(bigmarttrain.Outlet_Type,bigmarttrain.Outlet_Location_Type)"
   ]
  },
  {
   "cell_type": "code",
   "execution_count": 89,
   "id": "27a11e77",
   "metadata": {},
   "outputs": [],
   "source": [
    "from scipy.stats import chi2_contingency"
   ]
  },
  {
   "cell_type": "code",
   "execution_count": 90,
   "id": "34191d6b",
   "metadata": {},
   "outputs": [
    {
     "data": {
      "text/plain": [
       "(4725.606588766826,\n",
       " 0.0,\n",
       " 6,\n",
       " array([[ 303.43822598,  353.88419571,  425.67757832],\n",
       "        [1562.58078141, 1822.35656459, 2192.062654  ],\n",
       "        [ 260.00985568,  303.23594978,  364.75419453],\n",
       "        [ 261.97113692,  305.52328992,  367.50557315]]))"
      ]
     },
     "execution_count": 90,
     "metadata": {},
     "output_type": "execute_result"
    }
   ],
   "source": [
    "chi2_contingency(pd.crosstab(bigmarttrain.Outlet_Type,bigmarttrain.Outlet_Location_Type))"
   ]
  },
  {
   "cell_type": "code",
   "execution_count": 91,
   "id": "b4c11697",
   "metadata": {},
   "outputs": [],
   "source": [
    "# EXPECTED TABLE = ROW TOTAL * COLUMN TOTAL / GRAND TOTAL"
   ]
  },
  {
   "cell_type": "code",
   "execution_count": 92,
   "id": "7e2ff1e9",
   "metadata": {
    "scrolled": true
   },
   "outputs": [
    {
     "data": {
      "text/html": [
       "<div>\n",
       "<style scoped>\n",
       "    .dataframe tbody tr th:only-of-type {\n",
       "        vertical-align: middle;\n",
       "    }\n",
       "\n",
       "    .dataframe tbody tr th {\n",
       "        vertical-align: top;\n",
       "    }\n",
       "\n",
       "    .dataframe thead th {\n",
       "        text-align: right;\n",
       "    }\n",
       "</style>\n",
       "<table border=\"1\" class=\"dataframe\">\n",
       "  <thead>\n",
       "    <tr style=\"text-align: right;\">\n",
       "      <th>Outlet_Location_Type</th>\n",
       "      <th>Tier 1</th>\n",
       "      <th>Tier 2</th>\n",
       "      <th>Tier 3</th>\n",
       "    </tr>\n",
       "    <tr>\n",
       "      <th>Outlet_Size</th>\n",
       "      <th></th>\n",
       "      <th></th>\n",
       "      <th></th>\n",
       "    </tr>\n",
       "  </thead>\n",
       "  <tbody>\n",
       "    <tr>\n",
       "      <th>High</th>\n",
       "      <td>0</td>\n",
       "      <td>0</td>\n",
       "      <td>932</td>\n",
       "    </tr>\n",
       "    <tr>\n",
       "      <th>Medium</th>\n",
       "      <td>930</td>\n",
       "      <td>0</td>\n",
       "      <td>1863</td>\n",
       "    </tr>\n",
       "    <tr>\n",
       "      <th>Small</th>\n",
       "      <td>1458</td>\n",
       "      <td>930</td>\n",
       "      <td>0</td>\n",
       "    </tr>\n",
       "  </tbody>\n",
       "</table>\n",
       "</div>"
      ],
      "text/plain": [
       "Outlet_Location_Type  Tier 1  Tier 2  Tier 3\n",
       "Outlet_Size                                 \n",
       "High                       0       0     932\n",
       "Medium                   930       0    1863\n",
       "Small                   1458     930       0"
      ]
     },
     "execution_count": 92,
     "metadata": {},
     "output_type": "execute_result"
    }
   ],
   "source": [
    "# Test Null No Association between Outlet_Size and Outlet_Location_Type\n",
    "pd.crosstab(bigmarttrain.Outlet_Size,bigmarttrain.Outlet_Location_Type)"
   ]
  },
  {
   "cell_type": "code",
   "execution_count": 93,
   "id": "a587a181",
   "metadata": {},
   "outputs": [
    {
     "data": {
      "text/plain": [
       "(4095.431263490629,\n",
       " 0.0,\n",
       " 4,\n",
       " array([[ 364.07917553,  141.78962866,  426.13119581],\n",
       "        [1091.06559791,  424.9124816 , 1277.0219205 ],\n",
       "        [ 932.85522657,  363.29788974, 1091.84688369]]))"
      ]
     },
     "execution_count": 93,
     "metadata": {},
     "output_type": "execute_result"
    }
   ],
   "source": [
    "chi2_contingency(pd.crosstab(bigmarttrain.Outlet_Size,bigmarttrain.Outlet_Location_Type))"
   ]
  },
  {
   "cell_type": "code",
   "execution_count": 94,
   "id": "f9d7ef08",
   "metadata": {},
   "outputs": [
    {
     "data": {
      "text/plain": [
       "<AxesSubplot:>"
      ]
     },
     "execution_count": 94,
     "metadata": {},
     "output_type": "execute_result"
    },
    {
     "data": {
      "image/png": "[encoded data removed]",
      "text/plain": [
       "<Figure size 432x288 with 1 Axes>"
      ]
     },
     "metadata": {
      "needs_background": "light"
     },
     "output_type": "display_data"
    }
   ],
   "source": [
    "# Supervised Learning - Regression Models and classification Models dependent variable (y) is numerical, continuous, closer\n",
    "# to normal distribution with minimum outliers and no missing values then regression models are run.\n",
    "# Dependent Variable(y) is non numerical and categorical either binary (Y/N) or multinomial (more than 2 levels) classification models are run.\n",
    "bigmarttraindf.Item_Outlet_Sales.plot(kind=\"box\", vert = False)"
   ]
  },
  {
   "cell_type": "code",
   "execution_count": null,
   "id": "5e34bcae",
   "metadata": {},
   "outputs": [],
   "source": [
    "# Regression - Primary Model is multiple linear regression.\n",
    "# It explains the linear relationship b/w a dependent variable (y) and multiple independent variables (X)\n",
    "# MLR is an equation y = B0+B1X1+B2X2+B3X3+.....+BnXn+Et\n",
    "# y-Dependent variable.\n",
    "# B0 = Intercept or constant (point at which straight line touches y-axis )\n",
    "# B1,B2,B3,....Bn are coefficients\n",
    "# X1,X2,X3,....Xn ARE Independent variables\n",
    "# Et is the Error term or Residual = Actual value - predicted value\n",
    "# Assumptions of MLR:\n",
    "# Dependent variable denoted by y must be numerical, continuous, closer to normal distribution with minimum outliers and no\n",
    "# missing values.\n",
    "# 2) Independent variables (X) can be both numerical and non-numerical.\n",
    "# 3) Linearity - There must be a logical linear relationship b/w dependent variables and independent variables.\n",
    "# 4) No Multicollinearity - Multi collinearity means very strong correlation(>0.95) among variables. If multicollinearity is\n",
    "# found donot include both variables choose one among them else overfitting problem will occur.\n",
    "# Variance Inflation factor(VIF) greater than 2 indicates multicollinearity.\n",
    "# 5) Exogenity - Dependent variable is dependent on independent variable but independent variables do not depend on the \n",
    "# dependent variable. y is dependent on X's but X's do not depent on y\n",
    "# 6) sample size required is min. 20 observations per variable\n",
    "# Assumptions on Residuals or post model\n",
    "# 7) Residuals are Homoscedastic in nature\n",
    "# 8) Residuals must be Normally Distributed\n",
    "# Assumptions 7 & 8 are dependent on Regression models.\n",
    "# Matrix formulation of MLR\n",
    "# [B0,B1,B2,....Bn] = (XT*X)^-1XTY, XT - TRANSPOSE OF X\n",
    "# (XTX)^-1 - INVERSE MATRIX OF MULTIPLICATION OF XT AND X\n",
    "# Interpretation of Output in PYTHON\n",
    "# 1) R square must be b/w 0.60 to 0.95, R square explains the amount of variance occuring in dependent variable(y) caused by independent variables.\n",
    "# 2) Intercept + Coeff from which Regression equations is created for predicting dependent variable(y)\n",
    "# Diagnostics for all Regression Models\n",
    "# Root Mean Square Error(RMSE) -Lower the better, comparitive metric RMSE = sqrt(sum(Actual value - Predicted value)^2/(n-1))"
   ]
  },
  {
   "cell_type": "code",
   "execution_count": 95,
   "id": "7c948d25",
   "metadata": {},
   "outputs": [
    {
     "data": {
      "text/plain": [
       "Index(['Item_Weight', 'Item_Visibility', 'Item_MRP', 'Outlet_Age',\n",
       "       'Item_Outlet_Sales', 'Item_Fat_Content_Low Fat',\n",
       "       'Item_Fat_Content_Regular', 'Item_Type_Baking Goods',\n",
       "       'Item_Type_Breads', 'Item_Type_Breakfast', 'Item_Type_Canned',\n",
       "       'Item_Type_Dairy', 'Item_Type_Frozen Foods',\n",
       "       'Item_Type_Fruits and Vegetables', 'Item_Type_Hard Drinks',\n",
       "       'Item_Type_Health and Hygiene', 'Item_Type_Household', 'Item_Type_Meat',\n",
       "       'Item_Type_Others', 'Item_Type_Seafood', 'Item_Type_Snack Foods',\n",
       "       'Item_Type_Soft Drinks', 'Item_Type_Starchy Foods',\n",
       "       'Outlet_Identifier_OUT010', 'Outlet_Identifier_OUT013',\n",
       "       'Outlet_Identifier_OUT017', 'Outlet_Identifier_OUT018',\n",
       "       'Outlet_Identifier_OUT019', 'Outlet_Identifier_OUT027',\n",
       "       'Outlet_Identifier_OUT035', 'Outlet_Identifier_OUT045',\n",
       "       'Outlet_Identifier_OUT046', 'Outlet_Identifier_OUT049',\n",
       "       'Outlet_Size_High', 'Outlet_Size_Medium', 'Outlet_Size_Missing',\n",
       "       'Outlet_Size_Small', 'Outlet_Location_Type_Tier 1',\n",
       "       'Outlet_Location_Type_Tier 2', 'Outlet_Location_Type_Tier 3',\n",
       "       'Outlet_Type_Grocery Store', 'Outlet_Type_Supermarket Type1',\n",
       "       'Outlet_Type_Supermarket Type2', 'Outlet_Type_Supermarket Type3',\n",
       "       'Item_Code_DR', 'Item_Code_FD', 'Item_Code_NC'],\n",
       "      dtype='object')"
      ]
     },
     "execution_count": 95,
     "metadata": {},
     "output_type": "execute_result"
    }
   ],
   "source": [
    "bigmarttraindf.columns"
   ]
  },
  {
   "cell_type": "code",
   "execution_count": 96,
   "id": "2cc6b273",
   "metadata": {},
   "outputs": [],
   "source": [
    "# Split data into dependent variable Y and independent variable X\n",
    "y=bigmarttraindf.Item_Outlet_Sales\n",
    "X=bigmarttraindf.drop(\"Item_Outlet_Sales\",axis=1)"
   ]
  },
  {
   "cell_type": "code",
   "execution_count": 97,
   "id": "a5849363",
   "metadata": {},
   "outputs": [],
   "source": [
    "from sklearn.linear_model import LinearRegression"
   ]
  },
  {
   "cell_type": "code",
   "execution_count": 98,
   "id": "1b299885",
   "metadata": {},
   "outputs": [],
   "source": [
    "reg=LinearRegression()"
   ]
  },
  {
   "cell_type": "code",
   "execution_count": 100,
   "id": "3b53d2c7",
   "metadata": {},
   "outputs": [],
   "source": [
    "regmodel=reg.fit(X,y)"
   ]
  },
  {
   "cell_type": "code",
   "execution_count": 102,
   "id": "2a92d4c7",
   "metadata": {},
   "outputs": [
    {
     "data": {
      "text/plain": [
       "0.5637737001510252"
      ]
     },
     "execution_count": 102,
     "metadata": {},
     "output_type": "execute_result"
    }
   ],
   "source": [
    "regmodel.score(X,y) # R square\n",
    "# Outliers, Skewness & Kurtosis in variables (both dependent and independent) are the reason for underfitting"
   ]
  },
  {
   "cell_type": "code",
   "execution_count": 107,
   "id": "0458768f",
   "metadata": {},
   "outputs": [
    {
     "data": {
      "text/plain": [
       "<AxesSubplot:>"
      ]
     },
     "execution_count": 107,
     "metadata": {},
     "output_type": "execute_result"
    },
    {
     "data": {
      "image/png": "[encoded data removed]",
      "text/plain": [
       "<Figure size 432x288 with 1 Axes>"
      ]
     },
     "metadata": {
      "needs_background": "light"
     },
     "output_type": "display_data"
    }
   ],
   "source": [
    "np.log(y).plot(kind=\"box\",vert=False)"
   ]
  },
  {
   "cell_type": "code",
   "execution_count": 105,
   "id": "b6bb29a1",
   "metadata": {},
   "outputs": [],
   "source": [
    "# Positive skewness is corrected by logarithmic transformation\n",
    "regmodel2=reg.fit(X,np.log(y))"
   ]
  },
  {
   "cell_type": "code",
   "execution_count": 106,
   "id": "8e0a4fe9",
   "metadata": {},
   "outputs": [
    {
     "data": {
      "text/plain": [
       "0.7213876943174335"
      ]
     },
     "execution_count": 106,
     "metadata": {},
     "output_type": "execute_result"
    }
   ],
   "source": [
    "regmodel2.score(X,np.log(y))"
   ]
  },
  {
   "cell_type": "code",
   "execution_count": 108,
   "id": "33d719a6",
   "metadata": {},
   "outputs": [],
   "source": [
    "regpredict=regmodel.predict(X) # Predict or yhat"
   ]
  },
  {
   "cell_type": "code",
   "execution_count": 110,
   "id": "b248b801",
   "metadata": {},
   "outputs": [],
   "source": [
    "regresidual=y-regpredict # Residual y-yhat"
   ]
  },
  {
   "cell_type": "code",
   "execution_count": 111,
   "id": "6a0cbffe",
   "metadata": {},
   "outputs": [
    {
     "data": {
      "text/plain": [
       "2763.3203381308226"
      ]
     },
     "execution_count": 111,
     "metadata": {},
     "output_type": "execute_result"
    }
   ],
   "source": [
    "np.sqrt(np.mean(regresidual**2)) # RMSE"
   ]
  },
  {
   "cell_type": "code",
   "execution_count": 112,
   "id": "60729916",
   "metadata": {},
   "outputs": [],
   "source": [
    "regpredict2=regmodel2.predict(X) # Predict "
   ]
  },
  {
   "cell_type": "code",
   "execution_count": 113,
   "id": "33ec7e3c",
   "metadata": {},
   "outputs": [],
   "source": [
    "regpredict2=np.exp(regpredict2) # Convert back log to actual data"
   ]
  },
  {
   "cell_type": "code",
   "execution_count": 114,
   "id": "1b8fb585",
   "metadata": {},
   "outputs": [],
   "source": [
    "regresidual2=y-regpredict2 # Residual"
   ]
  },
  {
   "cell_type": "code",
   "execution_count": 115,
   "id": "382f0032",
   "metadata": {},
   "outputs": [
    {
     "data": {
      "text/plain": [
       "1140.0278807236882"
      ]
     },
     "execution_count": 115,
     "metadata": {},
     "output_type": "execute_result"
    }
   ],
   "source": [
    "np.sqrt(np.mean(regresidual2**2)) # RMSE"
   ]
  },
  {
   "cell_type": "code",
   "execution_count": 116,
   "id": "9efcbd6f",
   "metadata": {},
   "outputs": [],
   "source": [
    "from sklearn.model_selection import cross_val_score"
   ]
  },
  {
   "cell_type": "code",
   "execution_count": 117,
   "id": "70698148",
   "metadata": {},
   "outputs": [
    {
     "data": {
      "text/plain": [
       "array([0.7205722 , 0.71009854, 0.70854769, 0.71488665, 0.74006189])"
      ]
     },
     "execution_count": 117,
     "metadata": {},
     "output_type": "execute_result"
    }
   ],
   "source": [
    "cross_val_score(regmodel,X,np.log(y),cv=5) # Cross Validation\n",
    "# CV-5 means 5 subsets of randomly selected data and 5 testing of model"
   ]
  },
  {
   "cell_type": "code",
   "execution_count": 118,
   "id": "35edc8c8",
   "metadata": {},
   "outputs": [],
   "source": [
    "regtestpredict=regmodel2.predict(bigmarttestdf)"
   ]
  },
  {
   "cell_type": "code",
   "execution_count": 120,
   "id": "73543722",
   "metadata": {},
   "outputs": [],
   "source": [
    "regtestpredict=np.exp(regtestpredict)"
   ]
  },
  {
   "cell_type": "code",
   "execution_count": 121,
   "id": "e51aab89",
   "metadata": {},
   "outputs": [
    {
     "data": {
      "text/plain": [
       "array([4353.95099261,  705.67929457, 1942.90377372, ..., 1225.65523898,\n",
       "       1129.42224824, 1024.80916113])"
      ]
     },
     "execution_count": 121,
     "metadata": {},
     "output_type": "execute_result"
    }
   ],
   "source": [
    "regtestpredict"
   ]
  },
  {
   "cell_type": "code",
   "execution_count": 123,
   "id": "e73d1f3b",
   "metadata": {},
   "outputs": [],
   "source": [
    "pd.DataFrame(regtestpredict).to_csv(\"reg.csv\")"
   ]
  },
  {
   "cell_type": "code",
   "execution_count": null,
   "id": "637b1fe6",
   "metadata": {},
   "outputs": [],
   "source": []
  }
 ],
 "metadata": {
  "kernelspec": {
   "display_name": "Python 3 (ipykernel)",
   "language": "python",
   "name": "python3"
  },
  "language_info": {
   "codemirror_mode": {
    "name": "ipython",
    "version": 3
   },
   "file_extension": ".py",
   "mimetype": "text/x-python",
   "name": "python",
   "nbconvert_exporter": "python",
   "pygments_lexer": "ipython3",
   "version": "3.9.12"
  }
 },
 "nbformat": 4,
 "nbformat_minor": 5
}
